{
 "cells": [
  {
   "cell_type": "markdown",
   "source": [
    "## Code for simulations"
   ],
   "metadata": {
    "collapsed": false
   }
  },
  {
   "cell_type": "markdown",
   "source": [
    "In the next cells, there will be the code that we used for the simulations. A few counterintuitive choices have been made in order to extract as much performance as possible. The first is the removal of every numpy array. As we were not making any use of the vector operations of numpy but just accessing elements, those arrays were slower than lists. We did not save the energy (and the magnetizations) at every instant but just a running average, and we did not normalize the averages in order not to induce numerical instability (sums are very delicate in this regard, but the energy is an int and python int have no upper limit, so they are safe from this point of view).\n",
    "We also ran the simulation on multiple processes in order to make python use all the cores of the cpu. The speed-up in this case was almost linear with the number of cores used.\n",
    "We also did not run the code on Cpython but on PyPy, a JIT compiler for python. This allowed us to get a speed-up of about 8x."
   ],
   "metadata": {
    "collapsed": false
   }
  },
  {
   "cell_type": "code",
   "execution_count": 14,
   "outputs": [],
   "source": [
    "import json\n",
    "import math\n",
    "import platform\n",
    "import random\n",
    "import time\n",
    "\n",
    "# we set the seed only once for reproducibility\n",
    "random.seed(2212)\n",
    "\n",
    "\n",
    "def energy_nn(sigma, J, L) -> int:\n",
    "    \"\"\"This function computes the total energy of the configuration. It iterates over the whole lattice, and it is in practice used only once as there is a faster way to update energies.\n",
    "    ----------\n",
    "    sigma: the configuration of the lattice,\n",
    "    J: the coupling constant,\n",
    "    L: the size of the side of the lattice,\n",
    "    \"\"\"\n",
    "    en = 0\n",
    "    for i in range(L):\n",
    "        for j in range(L):\n",
    "            if sigma[i][j] == sigma[i][(j + 1) % L]: en -= J\n",
    "            if sigma[i][j] == sigma[(i + 1) % L][j]: en -= J\n",
    "    return en\n",
    "\n",
    "\n",
    "def delta_energy_nn(sigma, J, i, j, new_q, L) -> int:\n",
    "    \"\"\"This function computes the difference in energy if one were to change a single spin. It is used in every step of the metropolis algorithm. It only looks at the neighbors of the flipped spin.\n",
    "    ----------\n",
    "    sigma: the configuration of the lattice,\n",
    "    J: the coupling constant,\n",
    "    new_q: the new spin state,\n",
    "    i, j: the coordinates of the spin to be flipped,\n",
    "    L: the size of the side of the lattice,\n",
    "    \"\"\"\n",
    "\n",
    "    neighs = [(i, (j + 1) % L), (i, (j - 1) % L), ((i + 1) % L, j), ((i - 1) % L, j)]\n",
    "    delta_en = 0\n",
    "    for x, y in neighs:\n",
    "        if sigma[i][j] == sigma[x][y]:\n",
    "            delta_en += J\n",
    "        if new_q == sigma[x][y]:\n",
    "            delta_en -= J\n",
    "    return delta_en\n",
    "\n",
    "\n",
    "def propose_flip(sigma, J, L, N, q) -> (int, int, int):\n",
    "    \"\"\"This function proposes a spin flip. It is used in every step of the metropolis algorithm. It returns the coordinates of the spin to be flipped and the new spin value. It is guaranteed that the new spin value is different from the old one.\n",
    "    ----------\n",
    "    sigma: the configuration of the lattice,\n",
    "    J: the coupling constant,\n",
    "    L: the size of the side of the lattice,\n",
    "    q: the number of possible spin states,\n",
    "    N: the size of the lattice,\n",
    "    \"\"\"\n",
    "    index = random.randint(0, N - 1)\n",
    "    index1, index2 = index // L, index % L\n",
    "\n",
    "    x = random.randint(0, q - 1)\n",
    "    while x == sigma[index1][index2]:\n",
    "        x = random.randint(0, q - 1)\n",
    "    return index1, index2, x\n",
    "\n",
    "\n",
    "def metropolis(delta_en, t) -> bool:\n",
    "    \"\"\"This function computes the acceptance probability and then decides whether to accept the flip or not by generating a random number.\n",
    "    ----------\n",
    "    delta_en: the difference in energy between the new and the old configuration,\n",
    "    t: the temperature,\n",
    "    \"\"\"\n",
    "    if delta_en < 0:\n",
    "        return True\n",
    "    if random.uniform(0, 1) < math.exp(- delta_en / t):\n",
    "        return True\n",
    "    return False\n",
    "\n",
    "\n",
    "def bincount(x, q, double=True) -> list:\n",
    "    \"\"\"Replaces np.bincount. It counts the number of appearences of each integer between 0 and q-1 in the list x. Performance on this is not critical as it is run only at the beginning of each simulation and then the number of spins of each type is updated at every step.\n",
    "    ----------\n",
    "    x: the list to be counted,\n",
    "    q: the number of possible spin states,\n",
    "    double: whether x is a lattice or a list of spins,\"\"\"\n",
    "\n",
    "    # flatten double list\n",
    "    if double:\n",
    "        flattened = []\n",
    "        for sublist in x:\n",
    "            for item in sublist:\n",
    "                flattened.append(item)\n",
    "        x = flattened\n",
    "    # count appearences of integers between 0 and q-1 (error raised if q is wrong)\n",
    "    counts = [0] * q\n",
    "    for i in x:\n",
    "        counts[i] += 1\n",
    "    return counts"
   ],
   "metadata": {
    "collapsed": false,
    "ExecuteTime": {
     "start_time": "2023-06-12T15:50:11.106161Z",
     "end_time": "2023-06-12T15:50:11.153118Z"
    }
   }
  },
  {
   "cell_type": "code",
   "execution_count": 15,
   "outputs": [],
   "source": [
    "def MCMC(L, q, t, nstep, burnin, J=1):\n",
    "    \"\"\"This function runs the Metropolis algorithm for a given number of steps. It returns the average magnetization and the average energy.\n",
    "    ----------\n",
    "    L: the size of the side of the lattice,\n",
    "    q: the number of possible spin states,\n",
    "    t: the temperature,\n",
    "    nstep: the number of steps to be run,\n",
    "    burnin: the number of steps to be run before starting to collect data,\n",
    "    J: the coupling constant,\n",
    "    \"\"\"\n",
    "\n",
    "    # random initial configuration\n",
    "    N = L ** 2\n",
    "    sigma = [[random.randint(0, q - 1) for _1 in range(L)] for _2 in range(L)]\n",
    "\n",
    "    # initial energy\n",
    "    en = energy_nn(sigma, J, L)\n",
    "\n",
    "    # run burnin steps to reach stationarity\n",
    "    for istep in range(burnin):\n",
    "        # propose random flip\n",
    "        ind1, ind2, q_new = propose_flip(sigma, J, L, N, q)\n",
    "        # compute energy difference\n",
    "        delta_en = delta_energy_nn(sigma, J, ind1, ind2, q_new, L)\n",
    "        # metropolis update rule\n",
    "        if metropolis(delta_en, t):\n",
    "            # update state\n",
    "            q_old = sigma[ind1][ind2]\n",
    "            sigma[ind1][ind2] = q_new\n",
    "            # update energy\n",
    "            en += delta_en\n",
    "\n",
    "    # initialize magnetization averaging\n",
    "    magnetization_state = bincount(sigma, q)\n",
    "    max_magnetization_avg = 0\n",
    "\n",
    "    # initialize energy averaging\n",
    "    energy_avg = 0\n",
    "\n",
    "    # main loop\n",
    "    for istep in range(nstep):\n",
    "        # propose random flip\n",
    "        ind1, ind2, q_new = propose_flip(sigma, J, L, N, q)\n",
    "        # compute energy difference\n",
    "        delta_en = delta_energy_nn(sigma, J, ind1, ind2, q_new, L)\n",
    "\n",
    "        # metropolis update rule\n",
    "        if metropolis(delta_en, t):\n",
    "            # update state\n",
    "            q_old = sigma[ind1][ind2]\n",
    "            sigma[ind1][ind2] = q_new\n",
    "\n",
    "            # update energy\n",
    "            en += delta_en\n",
    "            # update magnetization history\n",
    "            magnetization_state[q_old] -= 1\n",
    "            magnetization_state[q_new] += 1\n",
    "\n",
    "        # update averages\n",
    "        max_magnetization_avg += max(magnetization_state)\n",
    "        energy_avg += en\n",
    "\n",
    "    # normalize and return averages\n",
    "    return energy_avg / nstep, max_magnetization_avg / nstep / N"
   ],
   "metadata": {
    "collapsed": false,
    "ExecuteTime": {
     "start_time": "2023-06-12T15:50:11.701189Z",
     "end_time": "2023-06-12T15:50:11.735577Z"
    }
   }
  },
  {
   "cell_type": "code",
   "execution_count": 16,
   "outputs": [],
   "source": [
    "# utility functions to decide range of temperatures to test against and generate the list\n",
    "\n",
    "def critical_Temperature(q, J=1):\n",
    "    return J / math.log(1 + math.sqrt(q))\n",
    "\n",
    "\n",
    "# values that we changed to run different tests\n",
    "n2 = 1\n",
    "n1 = 3\n",
    "dt = 0.005\n",
    "\n",
    "\n",
    "def arange(start, stop, step):\n",
    "    \"\"\"Replaces numpy.arange\"\"\"\n",
    "    result = []\n",
    "    eps = 0.001\n",
    "    current = start\n",
    "    while current < stop - eps:\n",
    "        result.append(current)\n",
    "        current += step\n",
    "    return result\n",
    "\n",
    "\n",
    "def get_temps(q, J=1, n1=n1, n2=n2, dt=dt, zero=0.4, infinity=3.0):\n",
    "    \"\"\"Generates 3 lists, one for low temperature with few intervals, one for temperatures around the critical T with many intervals and one for high temperatures with few intervals.\n",
    "    ----------\n",
    "    q: the number of possible spin states,\n",
    "    J: the coupling constant,\n",
    "    n1: the number of intervals around the critical temperature,\n",
    "    n2: the number of intervals for low and high temperatures,\n",
    "    dt: the size of the intervals around the critical temperature,\n",
    "    zero: the lower bound of the low temperature interval,\n",
    "    infinity: the upper bound of the high temperature interval,\n",
    "    \"\"\"\n",
    "\n",
    "    crit = critical_Temperature(q, J)\n",
    "    crit = round(crit, 4)\n",
    "\n",
    "    low = crit - n1 * dt\n",
    "    high = crit + n1 * dt\n",
    "\n",
    "    # compute the 3 lists\n",
    "    core = arange(low, high, dt)\n",
    "    out1 = arange(zero, low, (low - zero) / n2)\n",
    "    out2 = arange(high, infinity, (infinity - high) / (n2 + 1))\n",
    "\n",
    "    # cut one of the lists to avoid overlaps\n",
    "    core = list(core)\n",
    "    out1 = list(out1)[:-1]\n",
    "    out2 = list(out2)\n",
    "\n",
    "    # round to 4 decimals\n",
    "    for arr in [core, out1, out2]:\n",
    "        for i, x in enumerate(arr):\n",
    "            arr[i] = round(x, 4)\n",
    "\n",
    "    return out1, core, out2"
   ],
   "metadata": {
    "collapsed": false,
    "ExecuteTime": {
     "start_time": "2023-06-12T15:50:12.402744Z",
     "end_time": "2023-06-12T15:50:12.441390Z"
    }
   }
  },
  {
   "cell_type": "code",
   "execution_count": 17,
   "outputs": [],
   "source": [
    "def simulate(L, q):\n",
    "    \"\"\"This function runs a full simulation at all the temperatures given q and L\n",
    "    ----------\n",
    "    L: the size of the side of the lattice,\n",
    "    q: the number of possible spin states,\n",
    "    ----------\n",
    "    returns a list of the temperatures, a list of the average energy and a list of the average magnetization for each temperature\n",
    "    \"\"\"\n",
    "    avg_en = []\n",
    "    avg_mag = []\n",
    "\n",
    "    temps_triple = get_temps(q)\n",
    "\n",
    "    ordered_temps = []\n",
    "\n",
    "    steps = (4 * 10 ** 7, 10 ** 8, 4 * 10 ** 7)\n",
    "    burnin = (4 * 10 ** 7, 10 ** 8, 4 * 10 ** 7)\n",
    "\n",
    "    for temps, step, burn in zip(temps_triple, steps, burnin):\n",
    "        for t in temps:\n",
    "            tempo = time.time()\n",
    "            ordered_temps.append(t)\n",
    "            if abs(t - critical_Temperature(q)) < 0.05:\n",
    "                print(f\"Starting simulation for {q=} {L=} {t=} with step={4 * 10 ** 8} and burnin={2 * 10 ** 8}\")\n",
    "                en, mag = MCMC(L, q, t, 5 * 10 ** 8, 2 * 10 ** 8)\n",
    "            else:\n",
    "                print(f\"Starting simulation for {q=} {L=} {t=} with step={step} and burnin={burn}\")\n",
    "                en, mag = MCMC(L, q, t, step, burn)\n",
    "            avg_en.append(en)\n",
    "            avg_mag.append(mag)\n",
    "            print(f\"Elapsed time: {time.time() - tempo}\")\n",
    "\n",
    "    return ordered_temps, avg_en, avg_mag\n",
    "\n",
    "\n",
    "def simulate_save(inp):\n",
    "    \"\"\"This function wraps the previous simulation, computes the specific heats and saves the results in a json file\n",
    "    ----------\n",
    "    inp: a tuple containing (q, L)\"\"\"\n",
    "\n",
    "    # the reason for the tuple is to easily run a multiprocess Pool\n",
    "    q, L = inp\n",
    "    tempo = time.time()\n",
    "\n",
    "    # due to the length of the simulation we log some information to keep track of the progress\n",
    "    print(f\"Simulating {q=} {L=}\")\n",
    "    temps, avg_en, avg_mag = simulate(L, q)\n",
    "    print(f\"Elapsed time: {time.time() - tempo}\")\n",
    "\n",
    "    # compute specific heat by finite differences at the midpoints of the temperature intervals\n",
    "    spec_heat = [(avg_en[i + 1] - avg_en[i]) / (temps[i + 1] - temps[i]) for i in range(0, len(temps) - 1)]\n",
    "    spec_heat_temps = [(temps[i + 1] + temps[i]) / 2 for i in range(0, len(temps) - 1)]\n",
    "\n",
    "    for i, x in enumerate(spec_heat_temps):\n",
    "        spec_heat_temps[i] = round(x, 3)\n",
    "\n",
    "    with open(f\"simulation_{q=}_{L=}.json\", \"w\") as file:\n",
    "        json.dump({\"temps\": temps, \"avg_en\": avg_en, \"avg_mag\": avg_mag,\n",
    "                   \"spec_heat\": spec_heat, \"spec_heat_temps\": spec_heat_temps}, file)\n"
   ],
   "metadata": {
    "collapsed": false,
    "ExecuteTime": {
     "start_time": "2023-06-12T15:50:13.074584Z",
     "end_time": "2023-06-12T15:50:13.200465Z"
    }
   }
  },
  {
   "cell_type": "code",
   "execution_count": 18,
   "outputs": [],
   "source": [
    "# Warning: this cell takes a long time to run\n",
    "import multiprocessing as mp\n",
    "\n",
    "run_cell = False\n",
    "\n",
    "# this list was changed during the simulations to run different tests\n",
    "qs_Ls = [\n",
    "    (4, 50),\n",
    "    (5, 50),\n",
    "]\n",
    "\n",
    "# the Pool size depends on the CPU\n",
    "if run_cell:\n",
    "    with mp.Pool(4) as p:\n",
    "        p.map(simulate_save, qs_Ls)"
   ],
   "metadata": {
    "collapsed": false,
    "ExecuteTime": {
     "start_time": "2023-06-12T15:50:13.797711Z",
     "end_time": "2023-06-12T15:50:13.825233Z"
    }
   }
  },
  {
   "cell_type": "markdown",
   "source": [
    "## Results\n",
    "\n",
    "After running all the simulations we are ready to show some results. We can start by plotting the energy against the temperature for the different values of $q$ fixing a $L$. We are going to load the results from a json and not run the cell above as it takes hours."
   ],
   "metadata": {
    "collapsed": false
   }
  },
  {
   "cell_type": "code",
   "execution_count": null,
   "outputs": [],
   "source": [
    "from dataclasses import dataclass, field\n",
    "import os\n",
    "import matplotlib.pyplot as plt\n",
    "\n",
    "\n",
    "def load(q, L, file_name=\"simulation\"):\n",
    "    with open(os.path.join(\"results\", f\"{file_name}_{q=}_{L=}.json\")) as f:  # change this\n",
    "        d = json.load(f)\n",
    "    for key in d.keys():\n",
    "        d[key] = d[key][1:]\n",
    "    return d.values()\n",
    "\n",
    "\n",
    "@dataclass\n",
    "class Experiment:\n",
    "    temps: list\n",
    "    avg_en: list\n",
    "    avg_mag: list\n",
    "    spec_heat: list\n",
    "    spec_heat_temps: list\n",
    "\n",
    "\n",
    "exps: dict[tuple[int, int]: Experiment] = {}"
   ],
   "metadata": {
    "collapsed": false,
    "pycharm": {
     "name": "#%%\n"
    }
   }
  },
  {
   "cell_type": "code",
   "execution_count": null,
   "outputs": [],
   "source": [
    "# Loading the data from the json files\n",
    "\n",
    "qs = [2, 3, 4, 5, 8]\n",
    "Ls = [10, 20, 30, 50]\n",
    "for q in qs:\n",
    "    for L in Ls:\n",
    "        try:  # not all the combinations have been simulated\n",
    "            exps[q, L] = Experiment(*load(q, L))\n",
    "        except FileNotFoundError:\n",
    "            pass"
   ],
   "metadata": {
    "collapsed": false,
    "pycharm": {
     "name": "#%%\n"
    }
   }
  },
  {
   "cell_type": "markdown",
   "source": [
    "We start by comparing the energy of the different values of $q$ for a fixed $L=20$."
   ],
   "metadata": {
    "collapsed": false,
    "pycharm": {
     "name": "#%% md\n"
    }
   }
  },
  {
   "cell_type": "code",
   "execution_count": null,
   "outputs": [],
   "source": [
    "L = 20\n",
    "plt.figure(figsize=(10, 6))\n",
    "\n",
    "for q in qs:\n",
    "    plt.plot(exps[q, L].temps, exps[q, L].avg_en, label=f\"q={q}\", marker=\"^\", markersize=5, linewidth=1)\n",
    "plt.legend()\n",
    "plt.xlabel(\"Temperature\")\n",
    "plt.ylabel(\"Energy\")\n",
    "\n",
    "plt.show()"
   ],
   "metadata": {
    "collapsed": false,
    "pycharm": {
     "name": "#%%\n"
    }
   }
  },
  {
   "cell_type": "markdown",
   "source": [
    "As expected, the energy has different shapes for different $q$. At higher $q$ the curve is steeper. This is the result for $L=20$, to show that this value is already a good approximation of the thermodynamical limit we can plot the same graph for different values of $L$, this time fixing $q$."
   ],
   "metadata": {
    "collapsed": false,
    "pycharm": {
     "name": "#%% md\n"
    }
   }
  },
  {
   "cell_type": "code",
   "execution_count": null,
   "outputs": [],
   "source": [
    "import numpy as np\n",
    "\n",
    "q_1 = [2, 8]\n",
    "fig, ax = plt.subplots(1, 2, figsize=(8, 4))\n",
    "fig.tight_layout(pad=3.0)\n",
    "for i, q in enumerate(q_1):\n",
    "    for L in Ls:\n",
    "        # We divide by L^2 in order to have all the energies on the same order of magnitude\n",
    "\n",
    "        ax[i].plot(exps[q, L].temps, np.array(exps[q, L].avg_en) / L ** 2, label=f\"L={L}\")\n",
    "\n",
    "    ax[i].legend()\n",
    "    ax[i].set_xlabel(\"Temperature\")\n",
    "    ax[i].set_ylabel(\"Energy\")\n",
    "    ax[i].set_title(f\"Energy for q={q}\")\n",
    "\n",
    "# plt.grid()"
   ],
   "metadata": {
    "collapsed": false,
    "pycharm": {
     "name": "#%%\n"
    }
   }
  },
  {
   "cell_type": "code",
   "execution_count": null,
   "outputs": [],
   "source": [
    "# do the same as the previous cell but with the specific heat\n",
    "q_1 = [2, 8]\n",
    "fig, ax = plt.subplots(1, 2, figsize=(12, 6))\n",
    "fig.tight_layout(pad=3.0)\n",
    "for i, q in enumerate(q_1):\n",
    "    for L in Ls:\n",
    "        ax[i].plot(exps[q, L].spec_heat_temps , np.array(exps[q, L].spec_heat) / L ** 2, label=f\"L={L}\")\n",
    "\n",
    "    ax[i].legend()\n",
    "    ax[i].set_xlabel(\"Temperature\")\n",
    "    ax[i].set_ylabel(\"Specific heat\")\n",
    "    ax[i].set_title(f\"Specific heat for q={q}\")"
   ],
   "metadata": {
    "collapsed": false,
    "pycharm": {
     "name": "#%%\n"
    }
   }
  },
  {
   "cell_type": "markdown",
   "source": [
    "As we can observe, the curves are identical both from $q=2$ and $q=8$. Thus we can conclude that we can carry on with the comparison fixing any $L$."
   ],
   "metadata": {
    "collapsed": false,
    "pycharm": {
     "name": "#%% md\n"
    }
   }
  },
  {
   "cell_type": "code",
   "execution_count": null,
   "outputs": [],
   "source": [
    "# plot the specific heat the same way for all the qs in a grid setting L constant to 50\n",
    "L = 20\n",
    "fig, ax = plt.subplots(2, 3, figsize=(12, 8), sharey=True, sharex=True)\n",
    "fig.tight_layout(pad=3.0)\n",
    "for i, q in enumerate(qs):\n",
    "    ax_current = ax[i // 3, i % 3]\n",
    "    ax_current.plot(exps[q, L].spec_heat_temps, exps[q, L].spec_heat)\n",
    "\n",
    "    ax_current.axvline(critical_Temperature(q), color=\"green\", linestyle=\"--\", label=r\"Theoretical $T_C$\", linewidth=.8)\n",
    "\n",
    "    # ax[i // 2, i % 2].legend()\n",
    "    ax_current.set_xlabel(\"Temperature\")\n",
    "    ax_current.set_ylabel(\"Specific Heat\")\n",
    "    ax_current.set_title(f\"Specific Heat for q={q}\")\n",
    "    ax_current.legend()\n",
    "\n",
    "plt.grid()\n",
    "fig.delaxes(ax[1,2])"
   ],
   "metadata": {
    "collapsed": false,
    "pycharm": {
     "name": "#%%\n"
    }
   }
  },
  {
   "cell_type": "markdown",
   "source": [
    "We can see that the different behavior of the energy is more noticeable in the specific heat. We can also observe some instability at low temperatures at high q. This is due to the markov chain getting stuck in a local minima that is not optimal. We could solve it by restarting the simulation or by letting it run enough to un-stuck it, but we deemed both solutions as not worth, as we want to study the behavior around the critical temperature. It is relevant to note that around the critical temperature we let the system run for more time as empirically it seemed that the convergence was slower."
   ],
   "metadata": {
    "collapsed": false,
    "pycharm": {
     "name": "#%% md\n"
    }
   }
  },
  {
   "cell_type": "code",
   "execution_count": null,
   "outputs": [],
   "source": [
    "# now do the same for the specific heat but zoom into the 20 centered values of the list\n",
    "L = 20\n",
    "fig, ax = plt.subplots(2, 3, figsize=(12, 8), sharey=True, sharex=True)\n",
    "fig.tight_layout(pad=3.0)\n",
    "for i, q in enumerate(qs):\n",
    "    ax_current = ax[i // 3, i % 3]\n",
    "    ax_current.plot(exps[q, L].spec_heat_temps[5:-5], exps[q, L].spec_heat[5:-5])\n",
    "\n",
    "    ax_current.axvline(critical_Temperature(q), color=\"green\", linestyle=\"--\", label=r\"Theoretical $T_C$\", linewidth=.8)\n",
    "\n",
    "    # ax[i // 2, i % 2].legend()\n",
    "    ax_current.set_xlabel(\"Temperature\")\n",
    "    ax_current.set_ylabel(\"Specific Heat\")\n",
    "    ax_current.set_title(f\"Specific Heat for q={q}\")\n",
    "    ax_current.legend()\n",
    "\n",
    "plt.grid()\n",
    "fig.delaxes(ax[1,2])\n"
   ],
   "metadata": {
    "collapsed": false,
    "pycharm": {
     "name": "#%%\n"
    }
   }
  },
  {
   "cell_type": "markdown",
   "source": [
    "If we zoom into the critical temperature, we can also notice that there is a shift of the peak toward the left, aka smaller temperatures. In particular, what we are expecting is a different pattern between $q=4,5$. It has been shown analitically that the discontinuity becomes discontinuous and the specific heat should accumulate all at one point. "
   ],
   "metadata": {
    "collapsed": false,
    "pycharm": {
     "name": "#%% md\n"
    }
   }
  },
  {
   "cell_type": "code",
   "execution_count": null,
   "outputs": [],
   "source": [
    "# plot the energy the same way you did for the specific heat in a grid setting L constant to 50\n",
    "L = 20\n",
    "fig, ax = plt.subplots(2, 3, figsize=(12, 8), sharey=True, sharex=True)\n",
    "fig.tight_layout(pad=3.0)\n",
    "for i, q in enumerate(qs):\n",
    "    ax_current = ax[i // 3, i % 3]\n",
    "    ax_current.plot(exps[q, L].temps, np.array(exps[q, L].avg_en) / L ** 2, marker=\"^\",\n",
    "                    linestyle=\"\", markersize=4)\n",
    "\n",
    "    ax_current.axvline(critical_Temperature(q), color=\"green\", linestyle=\"--\", label=r\"Theoretical $T_C$\", linewidth=.8)\n",
    "\n",
    "    # ax[i // 2, i % 2].legend()\n",
    "    ax_current.set_xlabel(\"Temperature\")\n",
    "    ax_current.set_ylabel(\"Energy\")\n",
    "    ax_current.set_title(f\"Energy for q={q}\")\n",
    "    ax_current.legend()\n",
    "\n",
    "plt.grid()\n",
    "fig.delaxes(ax[1,2])\n"
   ],
   "metadata": {
    "collapsed": false,
    "pycharm": {
     "name": "#%%\n"
    }
   }
  },
  {
   "cell_type": "code",
   "execution_count": null,
   "outputs": [],
   "source": [
    "# plot the energy the same way you did for the specific heat in a grid setting L constant to 50\n",
    "L = 50\n",
    "fig, ax = plt.subplots(2, 3, figsize=(12, 8), sharey=True, sharex=True)\n",
    "fig.tight_layout(pad=3.0)\n",
    "for i, q in enumerate(qs):\n",
    "    if q == 3: continue\n",
    "\n",
    "    ax_current = ax[i // 3, i % 3]\n",
    "\n",
    "    ax_current.plot(exps[q, L].temps, np.array(exps[q, L].avg_en) / L ** 2, marker=\"^\",\n",
    "                    linestyle=\"\", markersize=4)\n",
    "\n",
    "    # draw a green vertical line at the critical temperature for q\n",
    "    ax_current.axvline(critical_Temperature(q), color=\"green\", linestyle=\"--\", label=r\"Theoretical $T_C$\", linewidth=.8)\n",
    "\n",
    "\n",
    "    ax_current.set_xlabel(\"Temperature\")\n",
    "    ax_current.set_ylabel(\"Energy\")\n",
    "    ax_current.set_title(f\"Energy for q={q}\")\n",
    "    ax_current.legend()\n",
    "\n",
    "plt.grid()\n",
    "fig.delaxes(ax[1,2])\n"
   ],
   "metadata": {
    "collapsed": false,
    "pycharm": {
     "name": "#%%\n"
    }
   }
  },
  {
   "cell_type": "code",
   "execution_count": null,
   "outputs": [],
   "source": [
    "L = 20\n",
    "fig, ax = plt.subplots(2, 3, figsize=(12, 8), sharey=True, sharex=True)\n",
    "fig.tight_layout(pad=3.0)\n",
    "for i, q in enumerate(qs):\n",
    "    ax_current = ax[i // 3, i % 3]\n",
    "    ax_current.plot(exps[q, L].temps, exps[q, L].avg_mag, marker=\"^\", linestyle=\"\", markersize=4)\n",
    "\n",
    "    ax_current.axhline(1 / q, color=\"red\", linestyle=\"--\", label=\"1/q\")\n",
    "    ax_current.axvline(critical_Temperature(q), color=\"green\", linestyle=\"--\", label=r\"Theoretical $T_C$\", linewidth=.8)\n",
    "\n",
    "    ax_current.legend()\n",
    "\n",
    "    ax_current.set_xlabel(\"Temperature\")\n",
    "    ax_current.set_ylabel(\"Magnetization\")\n",
    "    ax_current.set_ylim(0)\n",
    "    ax_current.set_title(f\"Magnetization for q={q}\")\n",
    "\n",
    "plt.grid()\n",
    "fig.delaxes(ax[1,2])\n"
   ],
   "metadata": {
    "collapsed": false,
    "pycharm": {
     "name": "#%%\n"
    }
   }
  },
  {
   "cell_type": "code",
   "execution_count": null,
   "outputs": [],
   "source": [
    "# Loading the data from the json files\n",
    "\n",
    "exps_zoom = dict()\n",
    "qs_z = [4, 5]\n",
    "Ls_z = [50]\n",
    "for q in qs_z:\n",
    "    for L in Ls_z:\n",
    "        try:  # not all the combinations have been simulated\n",
    "            exps_zoom[q, L] = Experiment(*load(q, L, file_name=\"zoom\"))\n",
    "        except FileNotFoundError:\n",
    "            pass"
   ],
   "metadata": {
    "collapsed": false,
    "pycharm": {
     "name": "#%%\n"
    }
   }
  },
  {
   "cell_type": "code",
   "execution_count": null,
   "outputs": [],
   "source": [
    "# plot the energy the same way you did for the specific heat in a grid setting L constant to 50 for the exps_zoom\n",
    "L = 50\n",
    "fig, ax = plt.subplots(1, 2, figsize=(12, 8), sharey=True, sharex=False)\n",
    "fig.tight_layout(pad=3.0)\n",
    "for i, q in enumerate(qs_z):\n",
    "    ax_current = ax[i]\n",
    "    ax_current.plot(exps_zoom[q, L].temps, np.array(exps_zoom[q, L].avg_en) / L ** 2, marker=\"^\",\n",
    "                    linestyle=\"-\", markersize=8)\n",
    "\n",
    "    # draw a green vertical line at the critical temperature for q\n",
    "    ax_current.axvline(critical_Temperature(q), color=\"green\", linestyle=\"--\", label=r\"Theoretical $T_C$\", linewidth=.8)\n",
    "\n",
    "    ax_current.set_xlabel(\"Temperature\")\n",
    "    ax_current.set_ylabel(\"Energy\")\n",
    "    ax_current.set_title(f\"Energy for q={q}\")\n",
    "    ax_current.legend()\n"
   ],
   "metadata": {
    "collapsed": false,
    "pycharm": {
     "name": "#%%\n"
    }
   }
  },
  {
   "cell_type": "markdown",
   "source": [
    "This is the plot of the energy, zoomed around the critical temperature. Those were extra runs with a very small difference between temperatures that we made specifically to observe the change in behaviour between $q=4,5$. We can observe a trend, although not that evident, of the energy curve becoming steeper."
   ],
   "metadata": {
    "collapsed": false,
    "pycharm": {
     "name": "#%% md\n"
    }
   }
  }
 ],
 "metadata": {
  "kernelspec": {
   "display_name": "Python 3",
   "language": "python",
   "name": "python3"
  },
  "language_info": {
   "codemirror_mode": {
    "name": "ipython",
    "version": 2
   },
   "file_extension": ".py",
   "mimetype": "text/x-python",
   "name": "python",
   "nbconvert_exporter": "python",
   "pygments_lexer": "ipython2",
   "version": "2.7.6"
  }
 },
 "nbformat": 4,
 "nbformat_minor": 0
}