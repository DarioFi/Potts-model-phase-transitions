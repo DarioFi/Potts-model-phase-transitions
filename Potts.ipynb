{
 "cells": [
  {
   "cell_type": "code",
   "execution_count": 92,
   "outputs": [],
   "source": [
    "import numpy as np\n",
    "import matplotlib.pyplot as plt\n",
    "import seaborn as sns"
   ],
   "metadata": {
    "collapsed": false,
    "pycharm": {
     "name": "#%%\n"
    }
   }
  },
  {
   "cell_type": "code",
   "execution_count": 207,
   "outputs": [],
   "source": [
    "# global parameters\n",
    "\n",
    "N = 1000     # number of sites\n",
    "q = 2        # number of states per site"
   ],
   "metadata": {
    "collapsed": false,
    "pycharm": {
     "name": "#%%\n"
    }
   }
  },
  {
   "cell_type": "code",
   "execution_count": 208,
   "outputs": [],
   "source": [
    "# energy function of the potts model.\n",
    "def energy(sigma, J):\n",
    "    # initialize energy to 0\n",
    "    en = 0\n",
    "    # loop over sites\n",
    "    for i in range(N):\n",
    "        # interaction mask of site i: True at position j iff site i and site j interact.\n",
    "        delta = (sigma[i] == sigma)\n",
    "        delta[i] = False\n",
    "        # energy due to interaction of i with all other sites --> double counting non-diagonal entries\n",
    "        en += np.dot(J[i], delta)\n",
    "\n",
    "    # fix double counting before returning\n",
    "    return 0.5 * en / N"
   ],
   "metadata": {
    "collapsed": false,
    "pycharm": {
     "name": "#%%\n"
    }
   }
  },
  {
   "cell_type": "code",
   "execution_count": 209,
   "outputs": [],
   "source": [
    "# slow but safe implementation of the energy\n",
    "def energy_test(sigma, J):\n",
    "    # initialize energy to 0\n",
    "    en = 0\n",
    "    # loop over pairs of sites\n",
    "    for i in range(N):\n",
    "        for j in range(i + 1, N):\n",
    "            # add interaction of sites i and j\n",
    "            if sigma[i] == sigma[j]:\n",
    "                en += J[i, j]\n",
    "    return en / N"
   ],
   "metadata": {
    "collapsed": false,
    "pycharm": {
     "name": "#%%\n"
    }
   }
  },
  {
   "cell_type": "code",
   "execution_count": 210,
   "outputs": [],
   "source": [
    "# propose a random flip in a random site\n",
    "def propose_flip(sigma, J):\n",
    "    # sample a random site and state\n",
    "    index = np.random.randint(0, N)\n",
    "    x = np.random.randint(0, q)\n",
    "    # ensure new state is different than the old one\n",
    "    while x == sigma[index]:\n",
    "        x = np.random.randint(0, q)\n",
    "    # return\n",
    "    return index, x"
   ],
   "metadata": {
    "collapsed": false,
    "pycharm": {
     "name": "#%%\n"
    }
   }
  },
  {
   "cell_type": "code",
   "execution_count": 211,
   "outputs": [],
   "source": [
    "# compute change in energy after flipping site i to state new_q\n",
    "def delta_energy(sigma, J, i, new_q):\n",
    "\n",
    "    # interaction masks of site i before and after flip\n",
    "    delta_old = (sigma == sigma[i])\n",
    "    delta_new = (sigma == new_q)\n",
    "    delta_new[i], delta_old[i] = False, False\n",
    "\n",
    "    # energy due to interactions that stop happening after flip\n",
    "    en_old = np.dot(J[i], delta_old)\n",
    "    # energy due to interactions that begin happening after flip\n",
    "    en_new = (np.dot(J[i], delta_new))\n",
    "\n",
    "    # return change in energy due to flip\n",
    "    return (en_new - en_old) / N"
   ],
   "metadata": {
    "collapsed": false,
    "pycharm": {
     "name": "#%%\n"
    }
   }
  },
  {
   "cell_type": "code",
   "execution_count": 212,
   "outputs": [],
   "source": [
    "# # test delta_energy\n",
    "#\n",
    "# ind = np.random.randint(N)\n",
    "# new_q = np.random.randint(q)\n",
    "#\n",
    "# old_en = energy_test(sigma, J)\n",
    "# delta_en = delta_energy(sigma, J, ind, new_q)\n",
    "#\n",
    "# sigma[ind] = new_q\n",
    "# new_en = energy_test(sigma, J)\n",
    "#\n",
    "# print(new_en - old_en, delta_en)"
   ],
   "metadata": {
    "collapsed": false,
    "pycharm": {
     "name": "#%%\n"
    }
   }
  },
  {
   "cell_type": "code",
   "execution_count": 213,
   "outputs": [],
   "source": [
    "# metropolis acceptance with symmetric proposal. returns a Boolean\n",
    "def metropolis(delta_en, t):\n",
    "    if delta_en < 0:\n",
    "        return True\n",
    "    if np.random.uniform(0, 1) < np.exp( - delta_en / t ):\n",
    "        return True\n",
    "    return False"
   ],
   "metadata": {
    "collapsed": false,
    "pycharm": {
     "name": "#%%\n"
    }
   }
  },
  {
   "cell_type": "code",
   "execution_count": 214,
   "outputs": [],
   "source": [
    "# # random symmetric interaction matrix.\n",
    "# J = np.random.randn(N, N)\n",
    "# for i in range(N):\n",
    "#     for j in range(i+1, N):\n",
    "#         J[i, j] = J[j, i]\n",
    "\n",
    "# ferromagnetic interaction\n",
    "J = - np.ones((N, N))"
   ],
   "metadata": {
    "collapsed": false,
    "pycharm": {
     "name": "#%%\n"
    }
   }
  },
  {
   "cell_type": "code",
   "execution_count": 236,
   "outputs": [
    {
     "name": "stdout",
     "output_type": "stream",
     "text": [
      "0 -249.51600000000002\n",
      "1000 -252.41599999999988\n",
      "2000 -267.9959999999998\n",
      "3000 -324.0289999999998\n",
      "4000 -368.52499999999986\n",
      "5000 -403.1639999999998\n",
      "6000 -422.55599999999987\n",
      "7000 -443.98099999999994\n",
      "8000 -447.5249999999999\n",
      "9000 -451.1009999999999\n",
      "10000 -450.2039999999999\n",
      "11000 -462.02099999999984\n",
      "12000 -458.3489999999999\n",
      "13000 -459.2639999999999\n",
      "14000 -460.18099999999987\n",
      "15000 -452.9009999999999\n",
      "16000 -464.7959999999999\n",
      "17000 -455.6159999999999\n",
      "18000 -460.18099999999987\n",
      "19000 -468.52399999999983\n",
      "20000 -460.18099999999987\n",
      "21000 -445.7489999999999\n",
      "22000 -446.6359999999999\n",
      "23000 -450.2039999999999\n",
      "24000 -449.3089999999999\n",
      "25000 -446.6359999999999\n",
      "26000 -455.6159999999999\n",
      "27000 -452.9009999999999\n",
      "28000 -458.3489999999999\n",
      "29000 -457.43599999999986\n",
      "30000 -455.6159999999999\n",
      "31000 -456.52499999999986\n",
      "32000 -459.2639999999999\n",
      "33000 -455.6159999999999\n",
      "34000 -456.52499999999986\n",
      "35000 -451.9999999999999\n",
      "36000 -445.7489999999999\n",
      "37000 -443.09999999999997\n",
      "38000 -445.7489999999999\n",
      "39000 -446.6359999999999\n",
      "40000 -451.9999999999999\n",
      "41000 -449.3089999999999\n",
      "42000 -443.09999999999997\n",
      "43000 -443.98099999999994\n",
      "44000 -456.52499999999986\n",
      "45000 -455.6159999999999\n",
      "46000 -447.5249999999999\n",
      "47000 -469.46099999999984\n",
      "48000 -471.34099999999984\n",
      "49000 -462.02099999999984\n",
      "50000 -461.09999999999985\n",
      "51000 -465.72499999999985\n",
      "52000 -473.2289999999998\n",
      "53000 -459.2639999999999\n",
      "54000 -456.52499999999986\n",
      "55000 -457.43599999999986\n",
      "56000 -455.6159999999999\n",
      "57000 -467.5889999999998\n",
      "58000 -453.8039999999999\n",
      "59000 -455.6159999999999\n",
      "60000 -463.86899999999986\n",
      "61000 -460.18099999999987\n",
      "62000 -458.3489999999999\n",
      "63000 -458.3489999999999\n",
      "64000 -442.22099999999995\n",
      "65000 -461.09999999999985\n",
      "66000 -465.72499999999985\n",
      "67000 -463.86899999999986\n",
      "68000 -465.72499999999985\n",
      "69000 -451.9999999999999\n",
      "70000 -451.9999999999999\n",
      "71000 -459.2639999999999\n",
      "72000 -458.3489999999999\n",
      "73000 -461.09999999999985\n",
      "74000 -455.6159999999999\n",
      "75000 -445.7489999999999\n",
      "76000 -455.6159999999999\n",
      "77000 -455.6159999999999\n",
      "78000 -449.3089999999999\n",
      "79000 -451.9999999999999\n",
      "80000 -462.94399999999985\n",
      "81000 -450.2039999999999\n",
      "82000 -456.52499999999986\n",
      "83000 -440.46899999999994\n",
      "84000 -450.2039999999999\n",
      "85000 -463.86899999999986\n",
      "86000 -457.43599999999986\n",
      "87000 -460.18099999999987\n",
      "88000 -467.5889999999998\n",
      "89000 -458.3489999999999\n",
      "90000 -460.18099999999987\n",
      "91000 -462.02099999999984\n",
      "92000 -461.09999999999985\n",
      "93000 -455.6159999999999\n",
      "94000 -450.2039999999999\n",
      "95000 -446.6359999999999\n",
      "96000 -436.9889999999999\n",
      "97000 -439.59599999999995\n",
      "98000 -447.5249999999999\n",
      "99000 -440.46899999999994\n"
     ]
    }
   ],
   "source": [
    "# Monte Carlo simulation\n",
    "\n",
    "# random initial configuration\n",
    "sigma = np.random.randint(0, q, N)\n",
    "\n",
    "t = 0.3\n",
    "nstep = 100000\n",
    "stride = 1000\n",
    "\n",
    "en = energy(sigma, J)\n",
    "en_history = []\n",
    "mag_history = np.zeros((q, nstep))\n",
    "prob_history = []\n",
    "n_accepted = 0\n",
    "\n",
    "for istep in range(nstep):\n",
    "\n",
    "    # propose random flip\n",
    "    ind, q_new = propose_flip(sigma, J)\n",
    "    # compute energy difference\n",
    "    delta_en = delta_energy(sigma, J, ind, q_new)\n",
    "\n",
    "    # update probability history\n",
    "    if delta_en > 0:\n",
    "        prob_history.append(min(1, np.exp(- delta_en / t)))\n",
    "\n",
    "    # metropolis update rule\n",
    "    if metropolis(delta_en, t):\n",
    "        # update state\n",
    "        sigma[ind] = q_new\n",
    "        n_accepted += 1\n",
    "\n",
    "        # update energy\n",
    "        en += delta_en\n",
    "\n",
    "    # update history\n",
    "    en_history.append(en)\n",
    "    mag_history[:, istep] = np.bincount(sigma)\n",
    "\n",
    "    if istep % stride == 0:\n",
    "        print(istep, en)"
   ],
   "metadata": {
    "collapsed": false,
    "pycharm": {
     "name": "#%%\n"
    }
   }
  },
  {
   "cell_type": "code",
   "execution_count": 237,
   "outputs": [
    {
     "data": {
      "text/plain": "Text(0, 0.5, 'E')"
     },
     "execution_count": 237,
     "metadata": {},
     "output_type": "execute_result"
    },
    {
     "data": {
      "text/plain": "<Figure size 640x480 with 1 Axes>",
      "image/png": "[encoded data removed]"
     },
     "metadata": {},
     "output_type": "display_data"
    }
   ],
   "source": [
    "plt.plot(en_history)\n",
    "plt.xlabel(\"step\")\n",
    "plt.ylabel(\"E\")"
   ],
   "metadata": {
    "collapsed": false,
    "pycharm": {
     "name": "#%%\n"
    }
   }
  },
  {
   "cell_type": "code",
   "execution_count": 238,
   "outputs": [
    {
     "name": "stdout",
     "output_type": "stream",
     "text": [
      "Fraction of accepted proposals: 0.11524\n"
     ]
    },
    {
     "data": {
      "text/plain": "<Figure size 640x480 with 1 Axes>",
      "image/png": "[encoded data removed]"
     },
     "metadata": {},
     "output_type": "display_data"
    }
   ],
   "source": [
    "print(f\"Fraction of accepted proposals: {n_accepted / nstep}\")\n",
    "plt.hist(prob_history, bins=100)\n",
    "plt.show()"
   ],
   "metadata": {
    "collapsed": false,
    "pycharm": {
     "name": "#%%\n"
    }
   }
  },
  {
   "cell_type": "code",
   "execution_count": 239,
   "outputs": [
    {
     "data": {
      "text/plain": "<Figure size 640x480 with 1 Axes>",
      "image/png": "[encoded data removed]"
     },
     "metadata": {},
     "output_type": "display_data"
    }
   ],
   "source": [
    "plt.plot(mag_history[0] / N)\n",
    "plt.show()"
   ],
   "metadata": {
    "collapsed": false,
    "pycharm": {
     "name": "#%%\n"
    }
   }
  }
 ],
 "metadata": {
  "kernelspec": {
   "display_name": "Python 3",
   "language": "python",
   "name": "python3"
  },
  "language_info": {
   "codemirror_mode": {
    "name": "ipython",
    "version": 2
   },
   "file_extension": ".py",
   "mimetype": "text/x-python",
   "name": "python",
   "nbconvert_exporter": "python",
   "pygments_lexer": "ipython2",
   "version": "2.7.6"
  }
 },
 "nbformat": 4,
 "nbformat_minor": 0
}