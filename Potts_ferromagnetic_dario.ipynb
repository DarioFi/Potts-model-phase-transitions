{
 "cells": [
  {
   "cell_type": "code",
   "execution_count": 1,
   "metadata": {
    "ExecuteTime": {
     "start_time": "2023-06-06T19:16:49.370658Z",
     "end_time": "2023-06-06T19:16:49.497674Z"
    },
    "pycharm": {
     "name": "#%%\n"
    }
   },
   "outputs": [],
   "source": [
    "import math\n",
    "import random\n",
    "import time\n",
    "\n",
    "import numpy as np\n",
    "import matplotlib.pyplot as plt\n",
    "import seaborn as sns"
   ]
  },
  {
   "cell_type": "code",
   "execution_count": 26,
   "metadata": {
    "ExecuteTime": {
     "start_time": "2023-06-06T19:30:28.681483Z",
     "end_time": "2023-06-06T19:30:28.697065Z"
    },
    "pycharm": {
     "name": "#%%\n"
    }
   },
   "outputs": [],
   "source": [
    "L = 40  # side length\n",
    "N = L ** 2  # number of sites\n",
    "q = 5  # number of states per site\n",
    "J = 1  # ferromagnetic interaction strength\n",
    "avgs = []\n",
    "en_history = {}\n",
    "mag_history = {}\n",
    "prob_history = {}\n",
    "n_accepted = {}"
   ]
  },
  {
   "cell_type": "markdown",
   "metadata": {
    "pycharm": {
     "name": "#%% md\n"
    }
   },
   "source": [
    "## Function Definitions"
   ]
  },
  {
   "cell_type": "code",
   "execution_count": 3,
   "metadata": {
    "ExecuteTime": {
     "start_time": "2023-06-06T19:16:49.404161Z",
     "end_time": "2023-06-06T19:16:49.499402Z"
    },
    "pycharm": {
     "name": "#%%\n"
    }
   },
   "outputs": [],
   "source": [
    "def energy_nn(sigma, J):\n",
    "    en = 0\n",
    "    for i in range(L):\n",
    "        for j in range(L):\n",
    "            if sigma[i][j] == sigma[i][(j + 1) % L]: en -= J\n",
    "            if sigma[i][j] == sigma[(i + 1) % L][j]: en -= J\n",
    "    return en\n",
    "\n",
    "\n",
    "def delta_energy_nn(sigma, J, i, j, new_q):\n",
    "    # i, j = ind\n",
    "    neighs = [(i, (j + 1) % L), (i, (j - 1) % L), ((i + 1) % L, j), ((i - 1) % L, j)]\n",
    "    delta_en = 0\n",
    "    for x, y in neighs:\n",
    "        if sigma[i][j] == sigma[x][y]:\n",
    "            delta_en += J\n",
    "        if new_q == sigma[x][y]:\n",
    "            delta_en -= J\n",
    "    return delta_en\n",
    "\n",
    "\n",
    "# PRECOMP = 10 ** 6\n",
    "# precomputed_indexes = [random.randint(0, N - 1) for x in range(PRECOMP)]\n",
    "# precomp_index = 0\n",
    "\n",
    "\n",
    "def propose_flip(sigma, J):\n",
    "    index = random.randint(0, N - 1)\n",
    "    index1, index2 = index // L, index % L\n",
    "\n",
    "    x = random.randint(0, q - 1)\n",
    "    while x == sigma[index1][index2]:\n",
    "        x = random.randint(0, q - 1)\n",
    "    return index1, index2, x\n",
    "\n",
    "\n",
    "# metropolis acceptance with symmetric proposal. returns a Boolean\n",
    "def metropolis(delta_en, t):\n",
    "    if delta_en < 0:\n",
    "        return True\n",
    "    if random.uniform(0, 1) < math.exp(- delta_en / t):\n",
    "        return True\n",
    "    return False"
   ]
  },
  {
   "cell_type": "code",
   "execution_count": null,
   "outputs": [],
   "source": [
    "# metropolis simulation. Accept parameters specifying system and simulation config. Store results in global dicts.\n",
    "random.seed(2212)\n",
    "\n",
    "\n",
    "def MCMC(L, q, t, nstep, burnin, J=1, freq=1000, keep_history=True):\n",
    "    # random initial configuration\n",
    "    # sigma = np.random.randint(0, q, (L, L))\n",
    "\n",
    "    sigma = [[random.randint(0, q) for _1 in range(L)] for _2 in range(L)]\n",
    "    en = energy_nn(sigma, J)\n",
    "\n",
    "    # run a few steps to reach stationarity\n",
    "    for istep in range(burnin):\n",
    "        # propose random flip\n",
    "        ind1, ind2, q_new = propose_flip(sigma, J)\n",
    "        # compute energy difference\n",
    "        delta_en = delta_energy_nn(sigma, J, ind1, ind2, q_new)\n",
    "        # metropolis update rule\n",
    "        if metropolis(delta_en, t):\n",
    "            # update state\n",
    "            q_old = sigma[ind1][ind2]\n",
    "            sigma[ind1][ind2] = q_new\n",
    "            # update energy\n",
    "            en += delta_en\n",
    "\n",
    "    mag_state = list(np.bincount(np.array(sigma).reshape(-1), minlength=q))\n",
    "    mag_avg = max(mag_state)\n",
    "\n",
    "    en_history[t] = []\n",
    "    mag_history[t] = []\n",
    "    avg_t = 0\n",
    "    # main loop\n",
    "    for istep in range(nstep):\n",
    "        # propose random flip\n",
    "        ind1, ind2, q_new = propose_flip(sigma, J)\n",
    "        # compute energy difference\n",
    "        delta_en = delta_energy_nn(sigma, J, ind1, ind2, q_new)\n",
    "\n",
    "        # metropolis update rule\n",
    "        if metropolis(delta_en, t):\n",
    "            # update state\n",
    "            q_old = sigma[ind1][ind2]\n",
    "            sigma[ind1][ind2] = q_new\n",
    "\n",
    "            # update energy\n",
    "            en += delta_en\n",
    "            # update magnetization history\n",
    "            mag_state[q_old] -= 1\n",
    "            mag_state[q_new] += 1\n",
    "\n",
    "            # print(max(mag_state))\n",
    "            # print(mag_state)\n",
    "            # time.sleep(0.1)\n",
    "        mag_avg += max(mag_state)\n",
    "\n",
    "        if istep % 10 == 1:\n",
    "            # update energy history\n",
    "            if keep_history:\n",
    "                en_history[t].append(en)\n",
    "                mag_history[t].append(max(mag_state))\n",
    "\n",
    "        avg_t += en\n",
    "        # if istep % freq == 3:\n",
    "        #\n",
    "        #     temp_mag = [0] * q\n",
    "        #\n",
    "        #     for v in mag_state[- freq:]:\n",
    "        #         for ind, val in enumerate(v):\n",
    "        #             temp_mag[ind] += val\n",
    "        #     temp_mag = [x / len(mag_state[-freq:]) for x in temp_mag]\n",
    "        #     mag_history[t].append(temp_mag)\n",
    "\n",
    "    return avg_t / nstep, mag_avg / nstep / q\n"
   ],
   "metadata": {
    "collapsed": false,
    "pycharm": {
     "name": "#%%\n"
    }
   }
  },
  {
   "cell_type": "markdown",
   "source": [
    "## Simulations q=4"
   ],
   "metadata": {
    "collapsed": false,
    "pycharm": {
     "name": "#%% md\n"
    }
   }
  },
  {
   "cell_type": "code",
   "execution_count": null,
   "outputs": [],
   "source": [
    "q = 4  # number of states per site\n",
    "J = 1  # ferromagnetic interaction strength\n",
    "avgs = []\n",
    "max_mag_avg = []\n",
    "\n",
    "burnin = 3 * 10 ** 6\n",
    "nstep = 10 ** 6\n",
    "\n",
    "# temps for q = 5\n",
    "temps = [0.3, 0.7, 0.75, 0.78, 0.8, 0.82, 0.84, 0.87, 0.9, 0.95, 1.0, 1.1, 1.2, 1.5]\n",
    "# temps = [0.3, 10]\n",
    "\n",
    "tempo = time.time()\n",
    "for t in temps:\n",
    "    print(f'temperature: {t}')\n",
    "    en, mag = MCMC(L, q, t, nstep, burnin, J, keep_history=False)  # seed 42\n",
    "    avgs.append(en)\n",
    "    max_mag_avg.append(mag)\n",
    "    print(f\"Passed: {time.time() - tempo}\")\n",
    "    tempo = time.time()"
   ],
   "metadata": {
    "collapsed": false,
    "pycharm": {
     "name": "#%%\n"
    }
   }
  },
  {
   "cell_type": "code",
   "execution_count": null,
   "outputs": [],
   "source": [
    "plt.plot(temps, avgs)\n",
    "plt.xlabel('Temperature')\n",
    "plt.ylabel('average Energy')\n",
    "plt.title('Energy vs temperature')\n",
    "plt.show()"
   ],
   "metadata": {
    "collapsed": false,
    "pycharm": {
     "name": "#%%\n"
    }
   }
  },
  {
   "cell_type": "code",
   "execution_count": null,
   "outputs": [],
   "source": [
    "spec_heats = [(avgs[i + 1] - avgs[i]) / (temps[i + 1] - temps[i]) for i in range(0, len(temps) - 1)]\n",
    "avg_temps = [(temps[i + 1] + temps[i]) / 2 for i in range(0, len(temps) - 1)]\n",
    "\n",
    "plt.plot(avg_temps, spec_heats)\n",
    "plt.ylabel('Specific Heat')\n",
    "plt.xlabel('temperature')\n",
    "plt.title('Specific Heat vs temperature')\n",
    "plt.show()"
   ],
   "metadata": {
    "collapsed": false,
    "pycharm": {
     "name": "#%%\n"
    }
   }
  },
  {
   "cell_type": "code",
   "execution_count": null,
   "outputs": [],
   "source": [
    "plt.plot(temps[3:-2], avgs[3:-2])\n",
    "plt.xlabel('Temperature')\n",
    "plt.ylabel('average Energy')\n",
    "plt.title('Energy vs temperature - zoom on the phase transition')\n",
    "plt.show()"
   ],
   "metadata": {
    "collapsed": false,
    "pycharm": {
     "name": "#%%\n"
    }
   }
  },
  {
   "cell_type": "code",
   "execution_count": null,
   "outputs": [],
   "source": [
    "plt.plot(temps, max_mag_avg)\n",
    "plt.show()"
   ],
   "metadata": {
    "collapsed": false,
    "pycharm": {
     "name": "#%%\n"
    }
   }
  },
  {
   "cell_type": "markdown",
   "source": [
    "## Simulation q=5"
   ],
   "metadata": {
    "collapsed": false,
    "pycharm": {
     "name": "#%% md\n"
    }
   }
  },
  {
   "cell_type": "code",
   "execution_count": null,
   "outputs": [],
   "source": [
    "q = 5  # number of states per site\n",
    "J = 1  # ferromagnetic interaction strength\n",
    "avgs = []\n",
    "en_history = {}\n",
    "mag_history = {}\n",
    "prob_history = {}\n",
    "n_accepted = {}\n",
    "# burnin = 7 * 10 ** 5\n",
    "burnin = 4 * 10 ** 6\n",
    "# nstep = 5 * 10 ** 6\n",
    "nstep = 10 ** 7\n",
    "\n",
    "# temps for q = 5\n",
    "temps = [0.3, 0.7, 0.75, 0.8, 0.83, 0.85, 0.9, 0.95, 1.0, 1.1, 1.2, 1.5]\n",
    "\n",
    "tempo = time.time()\n",
    "for t in temps:\n",
    "    print(f'temperature: {t}')\n",
    "    MCMC(L, q, t, nstep, burnin, J, keep_history=False)  # seed 42\n",
    "    print(f\"Passed: {time.time() - tempo}\")\n",
    "    tempo = time.time()"
   ],
   "metadata": {
    "collapsed": false,
    "pycharm": {
     "name": "#%%\n"
    }
   }
  },
  {
   "cell_type": "code",
   "execution_count": null,
   "outputs": [],
   "source": [
    "plt.plot(temps, avgs)\n",
    "plt.xlabel('Temperature')\n",
    "plt.ylabel('average Energy')\n",
    "plt.title('Energy vs temperature')\n",
    "plt.show()"
   ],
   "metadata": {
    "collapsed": false,
    "pycharm": {
     "name": "#%%\n"
    }
   }
  },
  {
   "cell_type": "code",
   "execution_count": null,
   "outputs": [],
   "source": [
    "spec_heats = [(avgs[i + 1] - avgs[i]) / (temps[i + 1] - temps[i]) for i in range(0, len(temps) - 1)]\n",
    "avg_temps = [(temps[i + 1] + temps[i]) / 2 for i in range(0, len(temps) - 1)]\n",
    "\n",
    "plt.plot(avg_temps, spec_heats)\n",
    "plt.ylabel('Specific Heat')\n",
    "plt.xlabel('temperature')\n",
    "plt.title('Specific Heat vs temperature')\n",
    "plt.show()"
   ],
   "metadata": {
    "collapsed": false,
    "pycharm": {
     "name": "#%%\n"
    }
   }
  },
  {
   "cell_type": "code",
   "execution_count": null,
   "outputs": [],
   "source": [
    "left, right = 1, -3\n",
    "plt.plot(temps[left:right], avgs[left:right])\n",
    "plt.xlabel('Temperature')\n",
    "plt.ylabel('average Energy')\n",
    "plt.title('Energy vs temperature - zoom on the phase transition')\n",
    "plt.show()"
   ],
   "metadata": {
    "collapsed": false,
    "pycharm": {
     "name": "#%%\n"
    }
   }
  },
  {
   "cell_type": "markdown",
   "source": [
    "## Analysis of a single run"
   ],
   "metadata": {
    "collapsed": false,
    "pycharm": {
     "name": "#%% md\n"
    }
   }
  },
  {
   "cell_type": "code",
   "execution_count": null,
   "outputs": [],
   "source": [
    "import gc\n",
    "gc.collect()"
   ],
   "metadata": {
    "collapsed": false,
    "pycharm": {
     "name": "#%%\n"
    }
   }
  },
  {
   "cell_type": "code",
   "execution_count": null,
   "outputs": [],
   "source": [
    "\n",
    "q = 5\n",
    "L = 50\n",
    "N = L ** 2\n",
    "t = 0.8\n",
    "avgs = []\n",
    "\n",
    "en_history = {}\n",
    "mag_history = {}\n",
    "prob_history = {}\n",
    "n_accepted = {}\n",
    "\n",
    "# burnin = 5 * 10 ** 5\n",
    "burnin = 3000\n",
    "nstep = 10 ** 8\n",
    "MCMC(L, q, t, nstep, burnin, J, keep_history=True)\n"
   ],
   "metadata": {
    "collapsed": false,
    "pycharm": {
     "name": "#%%\n"
    }
   }
  },
  {
   "cell_type": "code",
   "execution_count": null,
   "outputs": [],
   "source": [
    "# print magnetization evolution in time\n",
    "# mag_history[t] = np.array(mag_history[t]).T\n",
    "\n",
    "# for i in range(q):\n",
    "#     plt.plot(mag_history[t][i] / N, label=i)\n",
    "\n",
    "max_mag = np.array(mag_history[t]) / N\n",
    "plt.plot(max_mag, label='max')\n",
    "\n",
    "plt.xlabel('step')\n",
    "plt.ylabel('mags')\n",
    "plt.title(f\"Magnetization at temperature {t}\")\n",
    "plt.show()\n",
    "# ci starebbe dire che qui il behaviour non è ancora caotico, a .91 L=40 vince una magnetizzazione anche se con tanto rumore.\n",
    "# a .92 invece è già quasi caotico (tende a vincere una m ma a tratti si flippano e cmq toccano il 66% di solito) q=4"
   ],
   "metadata": {
    "collapsed": false,
    "pycharm": {
     "name": "#%%\n"
    }
   }
  },
  {
   "cell_type": "code",
   "execution_count": 44,
   "metadata": {
    "ExecuteTime": {
     "start_time": "2023-06-06T19:48:36.077809Z",
     "end_time": "2023-06-06T19:48:42.504156Z"
    },
    "pycharm": {
     "name": "#%%\n"
    }
   },
   "outputs": [
    {
     "data": {
      "text/plain": "<Figure size 640x480 with 1 Axes>",
      "image/png": "[encoded data removed]"
     },
     "metadata": {},
     "output_type": "display_data"
    }
   ],
   "source": [
    "# print magnetization evolution in time\n",
    "# mag_history[t] = np.array(mag_history[t]).T\n",
    "\n",
    "# for i in range(q):\n",
    "#     plt.plot(mag_history[t][i] / N, label=i)\n",
    "\n",
    "max_mag = np.array(mag_history[t]) / N\n",
    "plt.plot(max_mag, label='max')\n",
    "\n",
    "plt.xlabel('step')\n",
    "plt.ylabel('mags')\n",
    "plt.title(f\"Magnetization at temperature {t}\")\n",
    "plt.show()\n",
    "# ci starebbe dire che qui il behaviour non è ancora caotico, a .91 L=40 vince una magnetizzazione anche se con tanto rumore.\n",
    "# a .92 invece è già quasi caotico (tende a vincere una m ma a tratti si flippano e cmq toccano il 66% di solito) q=4"
   ]
  },
  {
   "cell_type": "code",
   "execution_count": 45,
   "outputs": [],
   "source": [
    "window_size = 3000\n",
    "kernel = np.ones(window_size) / window_size\n",
    "# smoothed_en = np.convolve(en_history[t], kernel, mode='valid')"
   ],
   "metadata": {
    "collapsed": false,
    "ExecuteTime": {
     "start_time": "2023-06-06T19:48:42.509056Z",
     "end_time": "2023-06-06T19:48:42.516927Z"
    },
    "pycharm": {
     "name": "#%%\n"
    }
   }
  },
  {
   "cell_type": "code",
   "execution_count": 46,
   "metadata": {
    "ExecuteTime": {
     "start_time": "2023-06-06T19:48:42.523489Z",
     "end_time": "2023-06-06T19:48:51.617776Z"
    },
    "pycharm": {
     "name": "#%%\n"
    }
   },
   "outputs": [
    {
     "name": "stdout",
     "output_type": "stream",
     "text": [
      "Average energy: -4452.9910263\n"
     ]
    },
    {
     "data": {
      "text/plain": "<Figure size 640x480 with 1 Axes>",
      "image/png": "[encoded data removed]"
     },
     "metadata": {},
     "output_type": "display_data"
    }
   ],
   "source": [
    "\n",
    "plt.plot(en_history[t])\n",
    "plt.xlabel(\"step\")\n",
    "plt.ylabel(\"E\")\n",
    "\n",
    "# print(f'Average energy: {en_history[t].mean()}')\n",
    "print(f'Average energy: {sum(en_history[t]) / len(en_history[t])}')\n",
    "plt.show()"
   ]
  },
  {
   "cell_type": "code",
   "execution_count": 42,
   "metadata": {
    "ExecuteTime": {
     "start_time": "2023-06-05T18:48:46.674369Z",
     "end_time": "2023-06-05T18:49:57.430452Z"
    },
    "pycharm": {
     "name": "#%%\n"
    }
   },
   "outputs": [
    {
     "ename": "KeyError",
     "evalue": "0.5",
     "output_type": "error",
     "traceback": [
      "\u001B[0;31m---------------------------------------------------------------------------\u001B[0m",
      "\u001B[0;31mKeyError\u001B[0m                                  Traceback (most recent call last)",
      "Cell \u001B[0;32mIn[42], line 3\u001B[0m\n\u001B[1;32m      1\u001B[0m \u001B[38;5;66;03m# convolve acceptance probabilities with a kernel to improve visualization\u001B[39;00m\n\u001B[0;32m----> 3\u001B[0m smoothed_probs \u001B[38;5;241m=\u001B[39m np\u001B[38;5;241m.\u001B[39mconvolve(\u001B[43mprob_history\u001B[49m\u001B[43m[\u001B[49m\u001B[43mt\u001B[49m\u001B[43m]\u001B[49m, kernel, mode\u001B[38;5;241m=\u001B[39m\u001B[38;5;124m'\u001B[39m\u001B[38;5;124mvalid\u001B[39m\u001B[38;5;124m'\u001B[39m)\n",
      "\u001B[0;31mKeyError\u001B[0m: 0.5"
     ]
    }
   ],
   "source": [
    "# convolve acceptance probabilities with a kernel to improve visualization\n",
    "\n",
    "smoothed_probs = np.convolve(prob_history[t], kernel, mode='valid')"
   ]
  },
  {
   "cell_type": "code",
   "execution_count": null,
   "outputs": [],
   "source": [
    "# plot\n",
    "plt.plot(smoothed_probs)\n",
    "plt.xlabel('step')\n",
    "plt.ylabel('acceptance probability (smoothed)')\n",
    "# plt.yscale('log')\n",
    "\n",
    "print(f\"Fraction of accepted proposals: {n_accepted[t] / nstep}\")\n",
    "plt.show()\n"
   ],
   "metadata": {
    "collapsed": false,
    "ExecuteTime": {
     "start_time": "2023-06-05T18:48:50.204477Z",
     "end_time": "2023-06-05T18:49:59.831190Z"
    },
    "pycharm": {
     "name": "#%%\n"
    }
   }
  },
  {
   "cell_type": "code",
   "execution_count": null,
   "outputs": [],
   "source": [
    "# t=.92 è il più interessante (o cmq in quella zona) poiché intorno alla transizione ci sono dei flip nelle probabilità e si vedono dei trend\n",
    "# del tipo che il sistema è in fasi diverse e quindi la acceptance probability anche fa su e giù\n",
    "# è abbastanza sensibile al seed iniziale"
   ],
   "metadata": {
    "collapsed": false,
    "ExecuteTime": {
     "start_time": "2023-06-05T18:48:50.236335Z",
     "end_time": "2023-06-05T18:49:59.847379Z"
    },
    "pycharm": {
     "name": "#%%\n"
    }
   }
  },
  {
   "cell_type": "code",
   "execution_count": 255,
   "outputs": [],
   "source": [
    "import math\n",
    "\n",
    "\n",
    "def critical_t(q):\n",
    "    return 1 / math.log(1 + math.sqrt(q))"
   ],
   "metadata": {
    "collapsed": false,
    "ExecuteTime": {
     "start_time": "2023-06-05T19:10:50.123183Z",
     "end_time": "2023-06-05T19:10:50.149006Z"
    },
    "pycharm": {
     "name": "#%%\n"
    }
   }
  },
  {
   "cell_type": "code",
   "execution_count": 258,
   "outputs": [
    {
     "name": "stdout",
     "output_type": "stream",
     "text": [
      "1.134592657106511\n",
      "0.9102392266268373\n",
      "0.8515283616124156\n",
      "0.7449044551221581\n"
     ]
    }
   ],
   "source": [
    "for p in [2, 4, 5, 8]:\n",
    "    print(critical_t(p))"
   ],
   "metadata": {
    "collapsed": false,
    "ExecuteTime": {
     "start_time": "2023-06-05T19:11:12.289495Z",
     "end_time": "2023-06-05T19:11:12.331040Z"
    },
    "pycharm": {
     "name": "#%%\n"
    }
   }
  },
  {
   "cell_type": "code",
   "execution_count": null,
   "outputs": [],
   "source": [],
   "metadata": {
    "collapsed": false,
    "pycharm": {
     "name": "#%%\n"
    }
   }
  }
 ],
 "metadata": {
  "kernelspec": {
   "display_name": "Python 3 (ipykernel)",
   "language": "python",
   "name": "python3"
  },
  "language_info": {
   "codemirror_mode": {
    "name": "ipython",
    "version": 3
   },
   "file_extension": ".py",
   "mimetype": "text/x-python",
   "name": "python",
   "nbconvert_exporter": "python",
   "pygments_lexer": "ipython3",
   "version": "3.9.16"
  }
 },
 "nbformat": 4,
 "nbformat_minor": 1
}
