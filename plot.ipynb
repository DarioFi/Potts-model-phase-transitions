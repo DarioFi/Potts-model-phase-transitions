{
 "cells": [
  {
   "cell_type": "code",
   "execution_count": 1,
   "outputs": [
    {
     "name": "stdout",
     "output_type": "stream",
     "text": [
      "1.134592657106511\n",
      "([0.4, 0.49, 0.59, 0.68], [0.87, 0.89, 0.91, 0.93, 0.95, 0.97, 0.99, 1.01, 1.03, 1.05, 1.07, 1.09, 1.11, 1.13, 1.15, 1.17, 1.19, 1.21, 1.23, 1.25, 1.27, 1.29, 1.31, 1.33, 1.35, 1.37], [1.39, 1.66, 1.93, 2.19, 2.46, 2.73])\n",
      "0.9102392266268373\n",
      "([0.4, 0.45, 0.5, 0.55], [0.65, 0.67, 0.69, 0.71, 0.73, 0.75, 0.77, 0.79, 0.81, 0.83, 0.85, 0.87, 0.89, 0.91, 0.93, 0.95, 0.97, 0.99, 1.01, 1.03, 1.05, 1.07, 1.09, 1.11, 1.13, 1.15], [1.17, 1.47, 1.78, 2.08, 2.39, 2.7])\n",
      "0.8515283616124156\n",
      "([0.4, 0.44, 0.48, 0.51], [0.59, 0.61, 0.63, 0.65, 0.67, 0.69, 0.71, 0.73, 0.75, 0.77, 0.79, 0.81, 0.83, 0.85, 0.87, 0.89, 0.91, 0.93, 0.95, 0.97, 0.99, 1.01, 1.03, 1.05, 1.07, 1.09], [1.11, 1.42, 1.74, 2.05, 2.37, 2.68])\n",
      "0.7449044551221581\n",
      "([0.4, 0.42, 0.43, 0.45], [0.48, 0.5, 0.52, 0.54, 0.56, 0.58, 0.6, 0.62, 0.64, 0.66, 0.68, 0.7, 0.72, 0.74, 0.76, 0.78, 0.8, 0.82, 0.84, 0.86, 0.88, 0.9, 0.92, 0.94, 0.96, 0.98], [1.0, 1.33, 1.67, 2.0, 2.33, 2.67])\n"
     ]
    }
   ],
   "source": [
    "from run import *\n",
    "import json, os\n",
    "import matplotlib.pyplot as plt"
   ],
   "metadata": {
    "collapsed": false,
    "ExecuteTime": {
     "start_time": "2023-06-07T14:45:19.188761Z",
     "end_time": "2023-06-07T14:45:19.209958Z"
    }
   }
  },
  {
   "cell_type": "code",
   "execution_count": null,
   "outputs": [],
   "source": [
    "# pairs (q, L) to consider\n",
    "qs_Ls = [(2, 10), (2, 20), (2, 30), (4, 20), (5, 20), (8, 10), (8, 20), (8, 30)]\n",
    "\n",
    "q50 = [(2,50),(4,50),(5,50),(8,50),]"
   ],
   "metadata": {
    "collapsed": false,
    "pycharm": {
     "name": "#%%\n"
    }
   }
  },
  {
   "cell_type": "code",
   "execution_count": null,
   "outputs": [],
   "source": [
    "def load(q, L):\n",
    "    with open(os.path.join(\"results\", f\"simulation_{q=}_{L=}.json\")) as f:   # change this\n",
    "        d = json.load(f)\n",
    "    for key in d.keys():\n",
    "        d[key] = d[key][1:]\n",
    "    return d.values()"
   ],
   "metadata": {
    "collapsed": false,
    "pycharm": {
     "name": "#%%\n"
    }
   }
  },
  {
   "cell_type": "code",
   "execution_count": null,
   "outputs": [],
   "source": [
    "for (q, L) in [q50[3]]:\n",
    "    temps, avg_en, avg_mag, spec_heat, spec_heat_temps = load(q, L)\n",
    "    save = \"plots\"\n",
    "\n",
    "    # energy\n",
    "    plt.figure(figsize=(10, 10))\n",
    "    plt.plot(temps, avg_en)\n",
    "    plt.xlabel('Temperature')\n",
    "    plt.ylabel('average Energy')\n",
    "    plt.title('Energy vs Temperature')\n",
    "    fig_path = os.path.join(save, f\"energy_{q=}_{L=}.png\")\n",
    "    plt.savefig(fig_path)\n",
    "    plt.show()\n",
    "\n",
    "    # magnetization\n",
    "    plt.figure(figsize=(10, 10))\n",
    "    plt.plot(temps, avg_mag)\n",
    "    plt.xlabel('Temperature')\n",
    "    plt.ylabel('Max magnetization')\n",
    "    plt.title('Max magnetization vs Temperature')\n",
    "    fig_path = os.path.join(save, f\"max_mag_{q=}_{L=}.png\")\n",
    "    plt.savefig(fig_path)\n",
    "    plt.show()\n",
    "\n",
    "    # specific heat\n",
    "    plt.figure(figsize=(10, 10))\n",
    "    plt.plot(spec_heat_temps, spec_heat)\n",
    "    plt.xlabel('Temperature')\n",
    "    plt.ylabel('Specific Heat')\n",
    "    plt.title('Specific Heat vs Temperature')\n",
    "    fig_path = os.path.join(save, f\"specific_heat_{q=}_{L=}.png\")\n",
    "    plt.savefig(fig_path)\n",
    "    plt.show()\n",
    "\n",
    "    # zoom on energy\n",
    "    plt.figure(figsize=(10, 10))\n",
    "    plt.plot(temps[n2:-n2], avg_en[n2:-n2])\n",
    "    plt.xlabel('Temperature')\n",
    "    plt.ylabel('average Energy')\n",
    "    plt.title('Energy vs Temperature zoomed in')\n",
    "    fig_path = os.path.join(save, f\"energy_zoom_{q=}_{L=}.png\")\n",
    "    plt.savefig(fig_path)\n",
    "    plt.show()\n",
    "\n",
    "    # zoom on magnetization\n",
    "    plt.figure(figsize=(10, 10))\n",
    "    plt.plot(temps[n2:-n2], avg_mag[n2:-n2])\n",
    "    plt.xlabel('Temperature')\n",
    "    plt.ylabel('Max magnetization')\n",
    "    plt.title('Max magnetization vs Temperature zoomed in')\n",
    "    fig_path = os.path.join(save, f\"max_mag_zoom_{q=}_{L=}.png\")\n",
    "    plt.savefig(fig_path)\n",
    "    plt.show()\n",
    "\n",
    "    # zoom on specific heat\n",
    "    plt.figure(figsize=(10, 10))\n",
    "    plt.plot(spec_heat_temps[n2:-n2], spec_heat[n2:-n2])\n",
    "    plt.xlabel('Temperature')\n",
    "    plt.ylabel('Specific Heat')\n",
    "    plt.title('Specific Heat vs Temperature zoomed in')\n",
    "    fig_path = os.path.join(save, f\"specific_heat_zoom_{q=}_{L=}.png\")\n",
    "    plt.savefig(fig_path)\n",
    "    plt.show()\n"
   ],
   "metadata": {
    "collapsed": false,
    "pycharm": {
     "name": "#%%\n"
    }
   }
  },
  {
   "cell_type": "code",
   "execution_count": null,
   "outputs": [],
   "source": [],
   "metadata": {
    "collapsed": false,
    "pycharm": {
     "name": "#%%\n"
    }
   }
  },
  {
   "cell_type": "code",
   "execution_count": null,
   "outputs": [],
   "source": [],
   "metadata": {
    "collapsed": false
   }
  }
 ],
 "metadata": {
  "kernelspec": {
   "display_name": "Python 3",
   "language": "python",
   "name": "python3"
  },
  "language_info": {
   "codemirror_mode": {
    "name": "ipython",
    "version": 2
   },
   "file_extension": ".py",
   "mimetype": "text/x-python",
   "name": "python",
   "nbconvert_exporter": "python",
   "pygments_lexer": "ipython2",
   "version": "2.7.6"
  }
 },
 "nbformat": 4,
 "nbformat_minor": 0
}