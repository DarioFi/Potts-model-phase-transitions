{
 "cells": [
  {
   "cell_type": "code",
   "execution_count": 1,
   "metadata": {
    "collapsed": true,
    "ExecuteTime": {
     "start_time": "2023-05-03T10:29:35.986634Z",
     "end_time": "2023-05-03T10:29:36.223107Z"
    }
   },
   "outputs": [],
   "source": [
    "import copy\n",
    "\n",
    "from utilities import energy_fun, update_energy, Flipper, metropolis_rule, ising_ferro\n",
    "import numpy as np\n",
    "\n",
    "import matplotlib.pyplot as plt"
   ]
  },
  {
   "cell_type": "code",
   "execution_count": 26,
   "outputs": [],
   "source": [
    "n_iters = 3*10 ** 4\n",
    "q = 2\n",
    "side = 10\n",
    "N = side ** 2\n",
    "energies = {}\n",
    "magnetizations = {}\n",
    "acceptance = {}\n",
    "burnin = 3000"
   ],
   "metadata": {
    "collapsed": false,
    "ExecuteTime": {
     "start_time": "2023-05-03T10:36:11.307391Z",
     "end_time": "2023-05-03T10:36:11.350140Z"
    }
   }
  },
  {
   "cell_type": "code",
   "execution_count": 27,
   "outputs": [],
   "source": [
    "def metropolis(T):\n",
    "    flipper = Flipper(N, q, n_iters + burnin)\n",
    "    energies[T] = []\n",
    "    magnetizations[T] = []\n",
    "    ens = energies[T]\n",
    "    mags = magnetizations[T]\n",
    "    acceptance[T] = 0\n",
    "    # J = -np.ones((N, N))\n",
    "    J = ising_ferro(N, side)\n",
    "    sigma = np.random.randint(0, q, N)\n",
    "    energy = energy_fun(J, sigma)\n",
    "    # run for some iterations to reach stationary distribution\n",
    "    for _ in range(burnin):\n",
    "        index, val = flipper.propose(J, sigma)\n",
    "        delta_e = update_energy(J, sigma, index, val)\n",
    "        if metropolis_rule(delta_e, T):\n",
    "            sigma[index] = val\n",
    "            energy += delta_e\n",
    "\n",
    "    mags.append([int(sum(sigma == x)) for x in range(q)])\n",
    "    ens.append(energy)\n",
    "\n",
    "    for it in range(n_iters):\n",
    "        index, val = flipper.propose(J, sigma)\n",
    "        delta_e = update_energy(J, sigma, index, val)\n",
    "\n",
    "        nm = copy.copy(mags[-1])\n",
    "\n",
    "        if metropolis_rule(delta_e, T):\n",
    "            acceptance[T] += 1\n",
    "            nm[sigma[index]] -= 1\n",
    "            nm[val] += 1\n",
    "\n",
    "            sigma[index] = val\n",
    "            energy += delta_e\n",
    "\n",
    "        mags.append(nm)\n",
    "        ens.append(energy)\n",
    "    acceptance[T] /= n_iters"
   ],
   "metadata": {
    "collapsed": false,
    "ExecuteTime": {
     "start_time": "2023-05-03T10:36:11.415866Z",
     "end_time": "2023-05-03T10:36:11.421154Z"
    }
   }
  },
  {
   "cell_type": "code",
   "execution_count": null,
   "outputs": [
    {
     "name": "stdout",
     "output_type": "stream",
     "text": [
      "Computing 0.01\n",
      "Computing 0.015\n",
      "Computing 0.019999999999999997\n",
      "Computing 0.024999999999999998\n",
      "Computing 0.03\n",
      "Computing 0.034999999999999996\n",
      "Computing 0.039999999999999994\n",
      "Computing 0.045\n",
      "Computing 0.049999999999999996\n",
      "Computing 0.05499999999999999\n",
      "Computing 0.05999999999999999\n",
      "Computing 0.06499999999999999\n",
      "Computing 0.06999999999999999\n",
      "Computing 0.07499999999999998\n",
      "Computing 0.07999999999999999\n",
      "Computing 0.08499999999999998\n",
      "Computing 0.08999999999999998\n",
      "Computing 0.09499999999999999\n",
      "Computing 0.09999999999999998\n",
      "Computing 0.10499999999999998\n",
      "Computing 0.10999999999999997\n",
      "Computing 0.11499999999999998\n",
      "Computing 0.11999999999999998\n",
      "Computing 0.12499999999999997\n",
      "Computing 0.12999999999999998\n",
      "Computing 0.13499999999999998\n",
      "Computing 0.13999999999999999\n",
      "Computing 0.145\n",
      "Computing 0.15\n",
      "Computing 0.155\n",
      "Computing 0.15999999999999998\n",
      "Computing 0.16499999999999998\n",
      "Computing 0.16999999999999998\n",
      "Computing 0.175\n",
      "Computing 0.18\n",
      "Computing 0.18499999999999997\n",
      "Computing 0.18999999999999997\n",
      "Computing 0.19499999999999998\n",
      "Computing 0.19999999999999998\n",
      "Computing 0.205\n",
      "Computing 0.20999999999999996\n",
      "Computing 0.21499999999999997\n",
      "Computing 0.21999999999999997\n",
      "Computing 0.22499999999999998\n",
      "Computing 0.22999999999999998\n",
      "Computing 0.235\n",
      "Computing 0.23999999999999996\n",
      "Computing 0.24499999999999997\n",
      "Computing 0.24999999999999997\n",
      "Computing 0.25499999999999995\n",
      "Computing 0.25999999999999995\n"
     ]
    }
   ],
   "source": [
    "temps = np.arange(.01, 1, .005)\n",
    "# tmatt = 5e-4\n",
    "# temps = [tmatt]\n",
    "for t in temps:\n",
    "    print(f\"Computing {t}\")\n",
    "    metropolis(t)"
   ],
   "metadata": {
    "collapsed": false,
    "ExecuteTime": {
     "start_time": "2023-05-03T10:35:19.405831Z",
     "end_time": "2023-05-03T10:35:34.076116Z"
    },
    "pycharm": {
     "is_executing": true
    }
   }
  },
  {
   "cell_type": "code",
   "execution_count": null,
   "outputs": [],
   "source": [
    "# for x in energies.values():\n",
    "#     print(sum(x) / len(x))\n",
    "\n",
    "print(len(temps))\n",
    "\n",
    "avg_mags = dict()\n",
    "for temp, m in magnetizations.items():\n",
    "    avg_mags[temp] = sum([x[0] / N for x in m]) / n_iters"
   ],
   "metadata": {
    "collapsed": false,
    "ExecuteTime": {
     "start_time": "2023-05-03T10:35:35.139350Z",
     "end_time": "2023-05-03T10:35:35.207103Z"
    },
    "pycharm": {
     "is_executing": true
    }
   }
  },
  {
   "cell_type": "code",
   "execution_count": null,
   "outputs": [],
   "source": [
    "plt.plot(temps, [sum(x) / len(x) for x in energies.values()])"
   ],
   "metadata": {
    "collapsed": false,
    "ExecuteTime": {
     "start_time": "2023-05-03T10:35:35.331299Z",
     "end_time": "2023-05-03T10:35:35.506833Z"
    },
    "pycharm": {
     "is_executing": true
    }
   }
  },
  {
   "cell_type": "code",
   "execution_count": null,
   "outputs": [],
   "source": [
    "plt.plot(temps, [abs(x - .5) + .5 for x in avg_mags.values()])"
   ],
   "metadata": {
    "collapsed": false,
    "ExecuteTime": {
     "start_time": "2023-05-03T10:35:36.438019Z",
     "end_time": "2023-05-03T10:35:36.520926Z"
    },
    "pycharm": {
     "is_executing": true
    }
   }
  },
  {
   "cell_type": "code",
   "execution_count": 23,
   "outputs": [
    {
     "ename": "KeyError",
     "evalue": "0.0005",
     "output_type": "error",
     "traceback": [
      "\u001B[0;31m---------------------------------------------------------------------------\u001B[0m",
      "\u001B[0;31mKeyError\u001B[0m                                  Traceback (most recent call last)",
      "Cell \u001B[0;32mIn[23], line 1\u001B[0m\n\u001B[0;32m----> 1\u001B[0m plt\u001B[38;5;241m.\u001B[39mplot(\u001B[43menergies\u001B[49m\u001B[43m[\u001B[49m\u001B[43mtmatt\u001B[49m\u001B[43m]\u001B[49m)\n",
      "\u001B[0;31mKeyError\u001B[0m: 0.0005"
     ]
    }
   ],
   "source": [
    "plt.plot(energies[tmatt])"
   ],
   "metadata": {
    "collapsed": false,
    "ExecuteTime": {
     "start_time": "2023-05-03T10:31:43.726586Z",
     "end_time": "2023-05-03T10:31:44.451873Z"
    }
   }
  },
  {
   "cell_type": "code",
   "execution_count": 24,
   "outputs": [
    {
     "ename": "KeyError",
     "evalue": "0.0005",
     "output_type": "error",
     "traceback": [
      "\u001B[0;31m---------------------------------------------------------------------------\u001B[0m",
      "\u001B[0;31mKeyError\u001B[0m                                  Traceback (most recent call last)",
      "Cell \u001B[0;32mIn[24], line 1\u001B[0m\n\u001B[0;32m----> 1\u001B[0m plt\u001B[38;5;241m.\u001B[39mplot(np\u001B[38;5;241m.\u001B[39marray(\u001B[43mmagnetizations\u001B[49m\u001B[43m[\u001B[49m\u001B[43mtmatt\u001B[49m\u001B[43m]\u001B[49m) \u001B[38;5;241m/\u001B[39m N)\n",
      "\u001B[0;31mKeyError\u001B[0m: 0.0005"
     ]
    }
   ],
   "source": [
    "plt.plot(np.array(magnetizations[tmatt]) / N)"
   ],
   "metadata": {
    "collapsed": false,
    "ExecuteTime": {
     "start_time": "2023-05-03T10:31:47.032739Z",
     "end_time": "2023-05-03T10:31:49.417077Z"
    }
   }
  },
  {
   "cell_type": "code",
   "execution_count": 25,
   "outputs": [
    {
     "data": {
      "text/plain": "{0.01: 0.0591,\n 0.03: 0.7479,\n 0.049999999999999996: 0.846,\n 0.06999999999999999: 0.893,\n 0.08999999999999998: 0.9151,\n 0.10999999999999997: 0.9315,\n 0.12999999999999998: 0.9429,\n 0.15: 0.953,\n 0.16999999999999998: 0.9533,\n 0.18999999999999997: 0.96,\n 0.20999999999999996: 0.9643,\n 0.22999999999999998: 0.9673,\n 0.24999999999999997: 0.969,\n 0.26999999999999996: 0.9698,\n 0.29: 0.9749,\n 0.30999999999999994: 0.9752,\n 0.32999999999999996: 0.9772,\n 0.35: 0.9779,\n 0.36999999999999994: 0.9791,\n 0.38999999999999996: 0.9791,\n 0.4099999999999999: 0.9806,\n 0.42999999999999994: 0.9817,\n 0.44999999999999996: 0.9829,\n 0.4699999999999999: 0.9835,\n 0.48999999999999994: 0.9847,\n 0.5099999999999999: 0.9865,\n 0.5299999999999999: 0.9874,\n 0.5499999999999999: 0.985,\n 0.57: 0.9879,\n 0.59: 0.9877,\n 0.6099999999999999: 0.9867,\n 0.6299999999999999: 0.9891,\n 0.6499999999999999: 0.9883,\n 0.6699999999999999: 0.9883,\n 0.69: 0.9886,\n 0.7099999999999999: 0.9901,\n 0.7299999999999999: 0.9875,\n 0.7499999999999999: 0.9898,\n 0.7699999999999999: 0.9902,\n 0.7899999999999999: 0.9898,\n 0.8099999999999998: 0.9901,\n 0.8299999999999998: 0.9901,\n 0.8499999999999999: 0.9914,\n 0.8699999999999999: 0.9916,\n 0.8899999999999999: 0.9912,\n 0.9099999999999999: 0.9931,\n 0.9299999999999998: 0.9916,\n 0.9499999999999998: 0.992,\n 0.9699999999999999: 0.9925,\n 0.9899999999999999: 0.991,\n 1.0099999999999998: 0.9934,\n 1.0299999999999998: 0.9932,\n 1.0499999999999998: 0.9944,\n 1.0699999999999998: 0.9917,\n 1.0899999999999999: 0.9939,\n 1.1099999999999999: 0.993,\n 1.13: 0.9935,\n 1.15: 0.9941,\n 1.17: 0.9936,\n 1.1899999999999997: 0.9948,\n 1.2099999999999997: 0.9937,\n 1.2299999999999998: 0.9949,\n 1.2499999999999998: 0.994,\n 1.2699999999999998: 0.9943,\n 1.2899999999999998: 0.9927,\n 1.3099999999999998: 0.9948,\n 1.3299999999999998: 0.9948,\n 1.3499999999999999: 0.9951,\n 1.3699999999999999: 0.9937,\n 1.39: 0.994,\n 1.4099999999999997: 0.9952,\n 1.4299999999999997: 0.9953,\n 1.4499999999999997: 0.9946,\n 1.4699999999999998: 0.9939,\n 1.4899999999999998: 0.9956,\n 1.5099999999999998: 0.9957,\n 1.5299999999999998: 0.9951,\n 1.5499999999999998: 0.9937,\n 1.5699999999999998: 0.9962,\n 1.5899999999999999: 0.9961,\n 1.6099999999999997: 0.9951,\n 1.6299999999999997: 0.9951,\n 1.6499999999999997: 0.9964,\n 1.6699999999999997: 0.9946,\n 1.6899999999999997: 0.9965,\n 1.7099999999999997: 0.9966,\n 1.7299999999999998: 0.996,\n 1.7499999999999998: 0.996,\n 1.7699999999999998: 0.9959,\n 1.7899999999999998: 0.9959,\n 1.8099999999999998: 0.9962,\n 1.8299999999999996: 0.996,\n 1.8499999999999996: 0.9956,\n 1.8699999999999997: 0.9958,\n 1.8899999999999997: 0.9962,\n 1.9099999999999997: 0.9961,\n 1.9299999999999997: 0.9962,\n 1.9499999999999997: 0.9956,\n 1.9699999999999998: 0.9961,\n 1.9899999999999998: 0.9957,\n 2.01: 0.9959,\n 2.0299999999999994: 0.9966,\n 2.0499999999999994: 0.9973,\n 2.0699999999999994: 0.9958,\n 2.0899999999999994: 0.9959,\n 2.1099999999999994: 0.9966,\n 2.1299999999999994: 0.9965,\n 2.1499999999999995: 0.9955,\n 2.1699999999999995: 0.997,\n 2.1899999999999995: 0.997,\n 2.2099999999999995: 0.9957,\n 2.2299999999999995: 0.9971,\n 2.2499999999999996: 0.9972,\n 2.2699999999999996: 0.9972,\n 2.2899999999999996: 0.9964,\n 2.3099999999999996: 0.9969,\n 2.3299999999999996: 0.9966,\n 2.3499999999999996: 0.9961,\n 2.369999999999999: 0.9979,\n 2.3899999999999992: 0.996,\n 2.4099999999999993: 0.9967,\n 2.4299999999999993: 0.9968,\n 2.4499999999999993: 0.9965,\n 2.4699999999999993: 0.9964,\n 2.4899999999999993: 0.9981,\n 2.5099999999999993: 0.9964,\n 2.5299999999999994: 0.9973,\n 2.5499999999999994: 0.9963,\n 2.5699999999999994: 0.9954,\n 2.5899999999999994: 0.9965,\n 2.6099999999999994: 0.998,\n 2.6299999999999994: 0.9971,\n 2.6499999999999995: 0.9974,\n 2.6699999999999995: 0.9974,\n 2.6899999999999995: 0.9981,\n 2.7099999999999995: 0.9974,\n 2.7299999999999995: 0.9985,\n 2.7499999999999996: 0.9971,\n 2.7699999999999996: 0.9959,\n 2.789999999999999: 0.9976,\n 2.809999999999999: 0.9972,\n 2.829999999999999: 0.9978,\n 2.849999999999999: 0.9972,\n 2.869999999999999: 0.9979,\n 2.8899999999999992: 0.9984,\n 2.9099999999999993: 0.9979,\n 2.9299999999999993: 0.9969,\n 2.9499999999999993: 0.9967,\n 2.9699999999999993: 0.9973,\n 2.9899999999999993: 0.9983}"
     },
     "execution_count": 25,
     "metadata": {},
     "output_type": "execute_result"
    }
   ],
   "source": [
    "acceptance"
   ],
   "metadata": {
    "collapsed": false,
    "ExecuteTime": {
     "start_time": "2023-05-03T10:35:38.514678Z",
     "end_time": "2023-05-03T10:35:38.524124Z"
    }
   }
  },
  {
   "cell_type": "code",
   "execution_count": null,
   "outputs": [],
   "source": [],
   "metadata": {
    "collapsed": false
   }
  }
 ],
 "metadata": {
  "kernelspec": {
   "display_name": "Python 3",
   "language": "python",
   "name": "python3"
  },
  "language_info": {
   "codemirror_mode": {
    "name": "ipython",
    "version": 2
   },
   "file_extension": ".py",
   "mimetype": "text/x-python",
   "name": "python",
   "nbconvert_exporter": "python",
   "pygments_lexer": "ipython2",
   "version": "2.7.6"
  }
 },
 "nbformat": 4,
 "nbformat_minor": 0
}
