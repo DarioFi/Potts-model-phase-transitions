{
 "cells": [
  {
   "cell_type": "code",
   "execution_count": 1,
   "metadata": {
    "collapsed": true,
    "ExecuteTime": {
     "start_time": "2023-05-03T12:37:41.983610Z",
     "end_time": "2023-05-03T12:37:42.222939Z"
    }
   },
   "outputs": [],
   "source": [
    "import copy\n",
    "\n",
    "from utilities import energy_fun, update_energy, Flipper, metropolis_rule, ising_ferro\n",
    "import numpy as np\n",
    "\n",
    "import matplotlib.pyplot as plt"
   ]
  },
  {
   "cell_type": "code",
   "execution_count": 2,
   "outputs": [],
   "source": [
    "n_iters = 3*10 ** 5\n",
    "q = 5\n",
    "side = 20\n",
    "N = side ** 2\n",
    "energies = {}\n",
    "magnetizations = {}\n",
    "acceptance = {}\n",
    "burnin = 5000"
   ],
   "metadata": {
    "collapsed": false,
    "ExecuteTime": {
     "start_time": "2023-05-03T12:37:42.224996Z",
     "end_time": "2023-05-03T12:37:42.226165Z"
    }
   }
  },
  {
   "cell_type": "code",
   "execution_count": 3,
   "outputs": [],
   "source": [
    "# ayo = []"
   ],
   "metadata": {
    "collapsed": false,
    "ExecuteTime": {
     "start_time": "2023-05-03T12:37:42.227011Z",
     "end_time": "2023-05-03T12:37:42.231380Z"
    }
   }
  },
  {
   "cell_type": "code",
   "execution_count": 4,
   "outputs": [],
   "source": [
    "def metropolis(T):\n",
    "    flipper = Flipper(N, q, n_iters + burnin)\n",
    "    energies[T] = []\n",
    "    magnetizations[T] = []\n",
    "    ens = energies[T]\n",
    "    mags = magnetizations[T]\n",
    "    acceptance[T] = 0\n",
    "    # J = -np.ones((N, N))\n",
    "    J = ising_ferro(N, side)\n",
    "    sigma = np.random.randint(0, q, N)\n",
    "    energy = energy_fun(J, sigma)\n",
    "    # run for some iterations to reach stationary distribution\n",
    "    for _ in range(burnin):\n",
    "        index, val = flipper.propose(J, sigma)\n",
    "        delta_e = update_energy(J, sigma, index, val)\n",
    "        if metropolis_rule(delta_e, T):\n",
    "            sigma[index] = val\n",
    "            energy += delta_e\n",
    "\n",
    "    mags.append([int(sum(sigma == x)) for x in range(q)])\n",
    "    ens.append(energy)\n",
    "\n",
    "    for it in range(n_iters):\n",
    "        index, val = flipper.propose(J, sigma)\n",
    "        delta_e = update_energy(J, sigma, index, val)\n",
    "\n",
    "        nm = copy.copy(mags[-1])\n",
    "\n",
    "        # ayo.append(np.exp(- delta_e / T))\n",
    "\n",
    "        if metropolis_rule(delta_e, T):\n",
    "            acceptance[T] += 1\n",
    "            nm[sigma[index]] -= 1\n",
    "            nm[val] += 1\n",
    "\n",
    "            sigma[index] = val\n",
    "            energy += delta_e\n",
    "\n",
    "        mags.append(nm)\n",
    "        ens.append(energy)\n",
    "    acceptance[T] /= n_iters"
   ],
   "metadata": {
    "collapsed": false,
    "ExecuteTime": {
     "start_time": "2023-05-03T12:37:42.234614Z",
     "end_time": "2023-05-03T12:37:42.237626Z"
    }
   }
  },
  {
   "cell_type": "code",
   "execution_count": 5,
   "outputs": [
    {
     "name": "stdout",
     "output_type": "stream",
     "text": [
      "Computing t=0.0001\n",
      "Computing t=0.0002\n"
     ]
    },
    {
     "ename": "KeyboardInterrupt",
     "evalue": "",
     "output_type": "error",
     "traceback": [
      "\u001B[0;31m---------------------------------------------------------------------------\u001B[0m",
      "\u001B[0;31mKeyboardInterrupt\u001B[0m                         Traceback (most recent call last)",
      "Cell \u001B[0;32mIn[5], line 6\u001B[0m\n\u001B[1;32m      4\u001B[0m \u001B[38;5;28;01mfor\u001B[39;00m t \u001B[38;5;129;01min\u001B[39;00m temps:\n\u001B[1;32m      5\u001B[0m     \u001B[38;5;28mprint\u001B[39m(\u001B[38;5;124mf\u001B[39m\u001B[38;5;124m\"\u001B[39m\u001B[38;5;124mComputing \u001B[39m\u001B[38;5;132;01m{\u001B[39;00mt\u001B[38;5;132;01m=}\u001B[39;00m\u001B[38;5;124m\"\u001B[39m)\n\u001B[0;32m----> 6\u001B[0m     \u001B[43mmetropolis\u001B[49m\u001B[43m(\u001B[49m\u001B[43mt\u001B[49m\u001B[43m)\u001B[49m\n",
      "Cell \u001B[0;32mIn[4], line 26\u001B[0m, in \u001B[0;36mmetropolis\u001B[0;34m(T)\u001B[0m\n\u001B[1;32m     24\u001B[0m \u001B[38;5;28;01mfor\u001B[39;00m it \u001B[38;5;129;01min\u001B[39;00m \u001B[38;5;28mrange\u001B[39m(n_iters):\n\u001B[1;32m     25\u001B[0m     indices, vals \u001B[38;5;241m=\u001B[39m flipper\u001B[38;5;241m.\u001B[39mpropose_multiple(J, sigma, multiple)\n\u001B[0;32m---> 26\u001B[0m     delta_e \u001B[38;5;241m=\u001B[39m \u001B[43mupdate_energy_multiple\u001B[49m\u001B[43m(\u001B[49m\u001B[43mJ\u001B[49m\u001B[43m,\u001B[49m\u001B[43m \u001B[49m\u001B[43msigma\u001B[49m\u001B[43m,\u001B[49m\u001B[43m \u001B[49m\u001B[43mindices\u001B[49m\u001B[43m,\u001B[49m\u001B[43m \u001B[49m\u001B[43mvals\u001B[49m\u001B[43m)\u001B[49m\n\u001B[1;32m     28\u001B[0m     nm \u001B[38;5;241m=\u001B[39m copy\u001B[38;5;241m.\u001B[39mcopy(mags[\u001B[38;5;241m-\u001B[39m\u001B[38;5;241m1\u001B[39m])\n\u001B[1;32m     30\u001B[0m     \u001B[38;5;66;03m# ayo.append(np.exp(- delta_e / T))\u001B[39;00m\n",
      "File \u001B[0;32m~/Semester/StochasticProcessProject/utilities.py:31\u001B[0m, in \u001B[0;36mupdate_energy_multiple\u001B[0;34m(J, sigma, indexes, values)\u001B[0m\n\u001B[1;32m     29\u001B[0m os \u001B[38;5;241m=\u001B[39m [sigma[i] \u001B[38;5;28;01mfor\u001B[39;00m i \u001B[38;5;129;01min\u001B[39;00m indexes]\n\u001B[1;32m     30\u001B[0m \u001B[38;5;28;01mfor\u001B[39;00m ind, val \u001B[38;5;129;01min\u001B[39;00m \u001B[38;5;28mzip\u001B[39m(indexes, values):\n\u001B[0;32m---> 31\u001B[0m     individuals \u001B[38;5;241m+\u001B[39m\u001B[38;5;241m=\u001B[39m \u001B[43mupdate_energy\u001B[49m\u001B[43m(\u001B[49m\u001B[43mJ\u001B[49m\u001B[43m,\u001B[49m\u001B[43m \u001B[49m\u001B[43msigma\u001B[49m\u001B[43m,\u001B[49m\u001B[43m \u001B[49m\u001B[43mind\u001B[49m\u001B[43m,\u001B[49m\u001B[43m \u001B[49m\u001B[43mval\u001B[49m\u001B[43m)\u001B[49m\n\u001B[1;32m     32\u001B[0m     sigma[ind] \u001B[38;5;241m=\u001B[39m val\n\u001B[1;32m     34\u001B[0m \u001B[38;5;28;01mfor\u001B[39;00m ind, x \u001B[38;5;129;01min\u001B[39;00m \u001B[38;5;28mzip\u001B[39m(indexes, os):\n",
      "File \u001B[0;32m~/Semester/StochasticProcessProject/utilities.py:19\u001B[0m, in \u001B[0;36mupdate_energy\u001B[0;34m(J, sigma, index, value)\u001B[0m\n\u001B[1;32m     16\u001B[0m delta_new[index], delta_old[index] \u001B[38;5;241m=\u001B[39m \u001B[38;5;28;01mFalse\u001B[39;00m, \u001B[38;5;28;01mFalse\u001B[39;00m\n\u001B[1;32m     18\u001B[0m \u001B[38;5;66;03m# energy due to interactions that stop happening after flip\u001B[39;00m\n\u001B[0;32m---> 19\u001B[0m en_old \u001B[38;5;241m=\u001B[39m \u001B[43mnp\u001B[49m\u001B[38;5;241;43m.\u001B[39;49m\u001B[43mdot\u001B[49m\u001B[43m(\u001B[49m\u001B[43mJ\u001B[49m\u001B[43m[\u001B[49m\u001B[43mindex\u001B[49m\u001B[43m]\u001B[49m\u001B[43m,\u001B[49m\u001B[43m \u001B[49m\u001B[43mdelta_old\u001B[49m\u001B[43m)\u001B[49m\n\u001B[1;32m     20\u001B[0m \u001B[38;5;66;03m# energy due to interactions that begin happening after flip\u001B[39;00m\n\u001B[1;32m     21\u001B[0m en_new \u001B[38;5;241m=\u001B[39m (np\u001B[38;5;241m.\u001B[39mdot(J[index], delta_new))\n",
      "File \u001B[0;32m<__array_function__ internals>:180\u001B[0m, in \u001B[0;36mdot\u001B[0;34m(*args, **kwargs)\u001B[0m\n",
      "File \u001B[0;32m~/Semester/StochasticProcessProject/venv/lib/python3.10/site-packages/numpy/core/multiarray.py:740\u001B[0m, in \u001B[0;36mdot\u001B[0;34m(a, b, out)\u001B[0m\n\u001B[1;32m    670\u001B[0m \u001B[38;5;250m    \u001B[39m\u001B[38;5;124;03m\"\"\"\u001B[39;00m\n\u001B[1;32m    671\u001B[0m \u001B[38;5;124;03m    result_type(*arrays_and_dtypes)\u001B[39;00m\n\u001B[1;32m    672\u001B[0m \n\u001B[0;32m   (...)\u001B[0m\n\u001B[1;32m    735\u001B[0m \n\u001B[1;32m    736\u001B[0m \u001B[38;5;124;03m    \"\"\"\u001B[39;00m\n\u001B[1;32m    737\u001B[0m     \u001B[38;5;28;01mreturn\u001B[39;00m arrays_and_dtypes\n\u001B[0;32m--> 740\u001B[0m \u001B[38;5;129m@array_function_from_c_func_and_dispatcher\u001B[39m(_multiarray_umath\u001B[38;5;241m.\u001B[39mdot)\n\u001B[1;32m    741\u001B[0m \u001B[38;5;28;01mdef\u001B[39;00m \u001B[38;5;21mdot\u001B[39m(a, b, out\u001B[38;5;241m=\u001B[39m\u001B[38;5;28;01mNone\u001B[39;00m):\n\u001B[1;32m    742\u001B[0m \u001B[38;5;250m    \u001B[39m\u001B[38;5;124;03m\"\"\"\u001B[39;00m\n\u001B[1;32m    743\u001B[0m \u001B[38;5;124;03m    dot(a, b, out=None)\u001B[39;00m\n\u001B[1;32m    744\u001B[0m \n\u001B[0;32m   (...)\u001B[0m\n\u001B[1;32m    828\u001B[0m \n\u001B[1;32m    829\u001B[0m \u001B[38;5;124;03m    \"\"\"\u001B[39;00m\n\u001B[1;32m    830\u001B[0m     \u001B[38;5;28;01mreturn\u001B[39;00m (a, b, out)\n",
      "\u001B[0;31mKeyboardInterrupt\u001B[0m: "
     ]
    }
   ],
   "source": [
    "temps = np.arange(.0001, .01, .0001)\n",
    "# tmatt = 5e-4\n",
    "# temps = [tmatt]\n",
    "for t in temps:\n",
    "    print(f\"Computing {t=}\")\n",
    "    metropolis(t)"
   ],
   "metadata": {
    "collapsed": false,
    "ExecuteTime": {
     "start_time": "2023-05-03T11:07:10.678656Z",
     "end_time": "2023-05-03T11:11:24.185289Z"
    }
   }
  },
  {
   "cell_type": "code",
   "execution_count": null,
   "outputs": [],
   "source": [
    "# for x in energies.values():\n",
    "#     print(sum(x) / len(x))\n",
    "\n",
    "print(len(temps))\n",
    "\n",
    "avg_mags = dict()\n",
    "for temp, m in magnetizations.items():\n",
    "    avg_mags[temp] = [sum([x[i] / N for x in m]) / n_iters for i in range(q)]"
   ],
   "metadata": {
    "collapsed": false,
    "ExecuteTime": {
     "start_time": "2023-05-03T11:11:24.196378Z",
     "end_time": "2023-05-03T11:11:30.949396Z"
    }
   }
  },
  {
   "cell_type": "code",
   "execution_count": null,
   "outputs": [],
   "source": [
    "plt.plot(temps, [sum(x) / len(x) for x in energies.values()])"
   ],
   "metadata": {
    "collapsed": false,
    "ExecuteTime": {
     "start_time": "2023-05-03T11:11:30.978956Z",
     "end_time": "2023-05-03T11:11:31.900610Z"
    }
   }
  },
  {
   "cell_type": "code",
   "execution_count": null,
   "outputs": [],
   "source": [
    "plt.plot([[abs(x[i] - 1/q) + 1/q for x in avg_mags.values()] for i in range(q)])"
   ],
   "metadata": {
    "collapsed": false,
    "ExecuteTime": {
     "start_time": "2023-05-03T11:11:31.930042Z",
     "end_time": "2023-05-03T11:11:32.052766Z"
    }
   }
  },
  {
   "cell_type": "code",
   "execution_count": null,
   "outputs": [],
   "source": [
    "plt.plot(temps, [(x - .5) + .5 for x in avg_mags.values()])"
   ],
   "metadata": {
    "collapsed": false,
    "ExecuteTime": {
     "start_time": "2023-05-03T11:03:38.496414Z",
     "end_time": "2023-05-03T11:03:38.616306Z"
    }
   }
  },
  {
   "cell_type": "code",
   "execution_count": 145,
   "outputs": [],
   "source": [
    "avg_en_temp = [sum(x) / len(x) for x in energies.values()]"
   ],
   "metadata": {
    "collapsed": false,
    "ExecuteTime": {
     "start_time": "2023-05-03T11:11:54.574360Z",
     "end_time": "2023-05-03T11:11:55.528600Z"
    }
   }
  },
  {
   "cell_type": "code",
   "execution_count": 146,
   "outputs": [
    {
     "name": "stdout",
     "output_type": "stream",
     "text": [
      "[-1.73436579 -1.76140333 -1.74894275 -1.84970748 -1.83037897 -1.93887259\n",
      " -1.74028606 -1.84105191 -1.84064314 -1.93324594 -1.96172465 -1.87649839\n",
      " -1.89802338 -1.80072559 -1.86673934 -1.83248128 -1.69823446 -1.86402576\n",
      " -1.53492967 -1.6786701  -1.30791436 -1.1313675  -1.05295421 -0.97456119\n",
      " -0.92823387 -0.88602034 -0.84930335 -0.83444822 -0.80549132 -0.78078611\n",
      " -0.76395606 -0.7432538  -0.72873918 -0.7159453  -0.70151134 -0.69034797\n",
      " -0.67232018 -0.67048345 -0.66301655 -0.64794097 -0.64432298 -0.63759302\n",
      " -0.6275422  -0.6242426  -0.61608453 -0.60857085 -0.6050456  -0.60077978\n",
      " -0.59347838 -0.59148742 -0.58329789 -0.58319751 -0.57809371 -0.57179255\n",
      " -0.57227723 -0.56664468 -0.56234273 -0.56093409 -0.55912225 -0.55406941\n",
      " -0.55009039 -0.5496598  -0.54537797 -0.54234288 -0.53958236 -0.53694752\n",
      " -0.5343295  -0.5318386  -0.53010462 -0.52744131 -0.5252415  -0.52280682\n",
      " -0.52470458 -0.52045885 -0.5208157  -0.51605419 -0.51449809 -0.51208172\n",
      " -0.51125715 -0.51104482 -0.50858143 -0.5076239  -0.50844053 -0.50743202\n",
      " -0.50275189 -0.50231288 -0.49931461 -0.49702668 -0.49787135 -0.49740683\n",
      " -0.49617033 -0.49610792 -0.49183033 -0.49099905 -0.49159574 -0.49021277\n",
      " -0.49108414 -0.48818247 -0.48599891]\n"
     ]
    }
   ],
   "source": [
    "avg_en_temp = np.array(avg_en_temp)\n",
    "print(avg_en_temp)"
   ],
   "metadata": {
    "collapsed": false,
    "ExecuteTime": {
     "start_time": "2023-05-03T11:11:56.312348Z",
     "end_time": "2023-05-03T11:11:56.318794Z"
    }
   }
  },
  {
   "cell_type": "code",
   "execution_count": 147,
   "outputs": [
    {
     "data": {
      "text/plain": "[<matplotlib.lines.Line2D at 0x7fa644720ca0>]"
     },
     "execution_count": 147,
     "metadata": {},
     "output_type": "execute_result"
    },
    {
     "data": {
      "text/plain": "<Figure size 640x480 with 1 Axes>",
      "image/png": "[encoded data removed]"
     },
     "metadata": {},
     "output_type": "display_data"
    }
   ],
   "source": [
    "diff = np.convolve(avg_en_temp, [1,-1])[1:-1]\n",
    "plt.plot(temps[1:], diff)\n"
   ],
   "metadata": {
    "collapsed": false,
    "ExecuteTime": {
     "start_time": "2023-05-03T11:11:57.060998Z",
     "end_time": "2023-05-03T11:11:57.155963Z"
    }
   }
  },
  {
   "cell_type": "code",
   "execution_count": 152,
   "outputs": [
    {
     "data": {
      "text/plain": "{0.0001: 0.00932,\n 0.0002: 0.007846666666666667,\n 0.00030000000000000003: 0.008726666666666667,\n 0.0004: 0.00469,\n 0.0005: 0.006,\n 0.0006000000000000001: 0.005236666666666666,\n 0.0007000000000000001: 0.01568,\n 0.0008: 0.012403333333333334,\n 0.0009000000000000001: 0.011763333333333334,\n 0.001: 0.008833333333333334,\n 0.0011: 0.006103333333333333,\n 0.0012000000000000001: 0.019086666666666665,\n 0.0013000000000000002: 0.01808,\n 0.0014000000000000002: 0.03593333333333333,\n 0.0015: 0.028583333333333332,\n 0.0016: 0.04007,\n 0.0017000000000000001: 0.07452,\n 0.0018000000000000002: 0.03977666666666667,\n 0.0019000000000000002: 0.13471333333333332,\n 0.002: 0.10013,\n 0.0021: 0.22585,\n 0.0022: 0.30443333333333333,\n 0.0023: 0.3443366666666667,\n 0.0024: 0.39036,\n 0.0025: 0.42037,\n 0.0026: 0.45208333333333334,\n 0.0027: 0.47838,\n 0.0028: 0.49392,\n 0.0029: 0.5174366666666667,\n 0.003: 0.53953,\n 0.0031: 0.5554033333333334,\n 0.0032: 0.5723866666666667,\n 0.0033: 0.5866933333333333,\n 0.0034: 0.5998233333333334,\n 0.0035: 0.61414,\n 0.0036: 0.62559,\n 0.0037: 0.64059,\n 0.0038: 0.64726,\n 0.0039: 0.65701,\n 0.004: 0.66928,\n 0.0041: 0.6759366666666666,\n 0.004200000000000001: 0.6820566666666666,\n 0.004300000000000001: 0.6927366666666667,\n 0.0044: 0.69931,\n 0.0045000000000000005: 0.7079133333333333,\n 0.004600000000000001: 0.7144933333333333,\n 0.0047: 0.71971,\n 0.0048000000000000004: 0.72651,\n 0.004900000000000001: 0.7323533333333333,\n 0.005: 0.7386333333333334,\n 0.0051: 0.7453133333333334,\n 0.005200000000000001: 0.7494033333333333,\n 0.005300000000000001: 0.7545466666666667,\n 0.0054: 0.7604266666666667,\n 0.0055000000000000005: 0.76177,\n 0.005600000000000001: 0.7679633333333333,\n 0.0057: 0.7743566666666667,\n 0.0058000000000000005: 0.7767866666666666,\n 0.005900000000000001: 0.78061,\n 0.006: 0.78521,\n 0.0061: 0.7896433333333334,\n 0.006200000000000001: 0.7924,\n 0.006300000000000001: 0.7964433333333333,\n 0.0064: 0.79968,\n 0.006500000000000001: 0.80251,\n 0.006600000000000001: 0.8073066666666666,\n 0.0067: 0.8101966666666667,\n 0.0068000000000000005: 0.8128666666666666,\n 0.006900000000000001: 0.8160633333333334,\n 0.007000000000000001: 0.8179966666666667,\n 0.0071: 0.82164,\n 0.007200000000000001: 0.82311,\n 0.007300000000000001: 0.8260433333333334,\n 0.0074: 0.8301166666666666,\n 0.007500000000000001: 0.82993,\n 0.007600000000000001: 0.8338866666666667,\n 0.0077: 0.8368633333333333,\n 0.0078000000000000005: 0.8386866666666667,\n 0.0079: 0.8405166666666667,\n 0.008: 0.8407066666666667,\n 0.0081: 0.8436733333333334,\n 0.008199999999999999: 0.8463633333333334,\n 0.0083: 0.84803,\n 0.0084: 0.84912,\n 0.0085: 0.8521666666666666,\n 0.0086: 0.8537933333333333,\n 0.0087: 0.85678,\n 0.0088: 0.85862,\n 0.0089: 0.8586,\n 0.009: 0.8609366666666667,\n 0.0091: 0.8624966666666667,\n 0.0092: 0.8631566666666667,\n 0.0093: 0.8655433333333333,\n 0.0094: 0.8681133333333333,\n 0.0095: 0.86774,\n 0.0096: 0.8691233333333334,\n 0.0097: 0.86843,\n 0.0098: 0.8724833333333334,\n 0.009899999999999999: 0.87369}"
     },
     "execution_count": 152,
     "metadata": {},
     "output_type": "execute_result"
    }
   ],
   "source": [
    "acceptance"
   ],
   "metadata": {
    "collapsed": false,
    "ExecuteTime": {
     "start_time": "2023-05-03T11:35:31.198840Z",
     "end_time": "2023-05-03T11:35:31.248802Z"
    }
   }
  }
 ],
 "metadata": {
  "kernelspec": {
   "display_name": "Python 3",
   "language": "python",
   "name": "python3"
  },
  "language_info": {
   "codemirror_mode": {
    "name": "ipython",
    "version": 2
   },
   "file_extension": ".py",
   "mimetype": "text/x-python",
   "name": "python",
   "nbconvert_exporter": "python",
   "pygments_lexer": "ipython2",
   "version": "2.7.6"
  }
 },
 "nbformat": 4,
 "nbformat_minor": 0
}
