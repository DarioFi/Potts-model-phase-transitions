{
 "cells": [
  {
   "cell_type": "code",
   "execution_count": 56,
   "metadata": {
    "collapsed": true,
    "ExecuteTime": {
     "start_time": "2023-05-03T09:30:55.177322Z",
     "end_time": "2023-05-03T09:30:55.182167Z"
    }
   },
   "outputs": [],
   "source": [
    "import copy\n",
    "\n",
    "from utilities import energy_fun, update_energy, propose_flip, metropolis_rule\n",
    "import numpy as np\n",
    "\n",
    "import matplotlib.pyplot as plt"
   ]
  },
  {
   "cell_type": "code",
   "execution_count": 64,
   "outputs": [],
   "source": [
    "n_iters = 10000\n",
    "q = 2\n",
    "side = 30\n",
    "N = side ** 2\n",
    "energies = {}\n",
    "magnetizations = {}\n",
    "equilibrium_iters = 500"
   ],
   "metadata": {
    "collapsed": false,
    "ExecuteTime": {
     "start_time": "2023-05-03T09:33:11.678025Z",
     "end_time": "2023-05-03T09:33:11.720647Z"
    }
   }
  },
  {
   "cell_type": "code",
   "execution_count": 65,
   "outputs": [],
   "source": [
    "def metropolis(T):\n",
    "    energies[T] = []\n",
    "    magnetizations[T] = []\n",
    "    ens = energies[T]\n",
    "    mags = magnetizations[T]\n",
    "    J = -np.ones((N, N))\n",
    "    sigma = np.random.randint(0, q, N)\n",
    "    energy = energy_fun(J, sigma)\n",
    "\n",
    "    # run for some iterations to reach stationary distribution\n",
    "    for _ in range(equilibrium_iters):\n",
    "        index, val = propose_flip(J, sigma, q)\n",
    "        delta_e = update_energy(J, sigma, index, val)\n",
    "        if metropolis_rule(delta_e, T):\n",
    "            sigma[index] = val\n",
    "            energy += delta_e\n",
    "\n",
    "    mags.append([int(sum(sigma == x)) for x in range(q)])\n",
    "    ens.append(energy)\n",
    "\n",
    "    for it in range(n_iters):\n",
    "        index, val = propose_flip(J, sigma, q)\n",
    "        delta_e = update_energy(J, sigma, index, val)\n",
    "\n",
    "        nm = copy.copy(mags[-1])\n",
    "\n",
    "        if metropolis_rule(delta_e, T):\n",
    "            nm[sigma[index]] -= 1\n",
    "            nm[val] += 1\n",
    "\n",
    "            sigma[index] = val\n",
    "            energy += delta_e\n",
    "\n",
    "        mags.append(nm)\n",
    "        ens.append(energy)"
   ],
   "metadata": {
    "collapsed": false,
    "ExecuteTime": {
     "start_time": "2023-05-03T09:33:11.947223Z",
     "end_time": "2023-05-03T09:33:11.947415Z"
    }
   }
  },
  {
   "cell_type": "code",
   "execution_count": 66,
   "outputs": [
    {
     "name": "stdout",
     "output_type": "stream",
     "text": [
      "Computing 0.01\n",
      "Computing 0.03\n",
      "Computing 0.049999999999999996\n",
      "Computing 0.06999999999999999\n",
      "Computing 0.08999999999999998\n",
      "Computing 0.10999999999999997\n",
      "Computing 0.12999999999999998\n",
      "Computing 0.15\n",
      "Computing 0.16999999999999998\n",
      "Computing 0.18999999999999997\n",
      "Computing 0.20999999999999996\n",
      "Computing 0.22999999999999998\n",
      "Computing 0.24999999999999997\n",
      "Computing 0.26999999999999996\n",
      "Computing 0.29\n",
      "Computing 0.30999999999999994\n",
      "Computing 0.32999999999999996\n",
      "Computing 0.35\n",
      "Computing 0.36999999999999994\n",
      "Computing 0.38999999999999996\n",
      "Computing 0.4099999999999999\n",
      "Computing 0.42999999999999994\n",
      "Computing 0.44999999999999996\n",
      "Computing 0.4699999999999999\n",
      "Computing 0.48999999999999994\n",
      "Computing 0.5099999999999999\n",
      "Computing 0.5299999999999999\n",
      "Computing 0.5499999999999999\n",
      "Computing 0.57\n",
      "Computing 0.59\n",
      "Computing 0.6099999999999999\n",
      "Computing 0.6299999999999999\n",
      "Computing 0.6499999999999999\n",
      "Computing 0.6699999999999999\n",
      "Computing 0.69\n",
      "Computing 0.7099999999999999\n",
      "Computing 0.7299999999999999\n",
      "Computing 0.7499999999999999\n",
      "Computing 0.7699999999999999\n",
      "Computing 0.7899999999999999\n",
      "Computing 0.8099999999999998\n",
      "Computing 0.8299999999999998\n",
      "Computing 0.8499999999999999\n",
      "Computing 0.8699999999999999\n",
      "Computing 0.8899999999999999\n",
      "Computing 0.9099999999999999\n",
      "Computing 0.9299999999999998\n",
      "Computing 0.9499999999999998\n",
      "Computing 0.9699999999999999\n",
      "Computing 0.9899999999999999\n",
      "Computing 1.0099999999999998\n",
      "Computing 1.0299999999999998\n",
      "Computing 1.0499999999999998\n",
      "Computing 1.0699999999999998\n",
      "Computing 1.0899999999999999\n",
      "Computing 1.1099999999999999\n",
      "Computing 1.13\n",
      "Computing 1.15\n",
      "Computing 1.17\n",
      "Computing 1.1899999999999997\n",
      "Computing 1.2099999999999997\n",
      "Computing 1.2299999999999998\n",
      "Computing 1.2499999999999998\n",
      "Computing 1.2699999999999998\n",
      "Computing 1.2899999999999998\n",
      "Computing 1.3099999999999998\n",
      "Computing 1.3299999999999998\n",
      "Computing 1.3499999999999999\n",
      "Computing 1.3699999999999999\n",
      "Computing 1.39\n",
      "Computing 1.4099999999999997\n",
      "Computing 1.4299999999999997\n",
      "Computing 1.4499999999999997\n",
      "Computing 1.4699999999999998\n",
      "Computing 1.4899999999999998\n",
      "Computing 1.5099999999999998\n",
      "Computing 1.5299999999999998\n",
      "Computing 1.5499999999999998\n",
      "Computing 1.5699999999999998\n",
      "Computing 1.5899999999999999\n",
      "Computing 1.6099999999999997\n",
      "Computing 1.6299999999999997\n",
      "Computing 1.6499999999999997\n",
      "Computing 1.6699999999999997\n",
      "Computing 1.6899999999999997\n",
      "Computing 1.7099999999999997\n",
      "Computing 1.7299999999999998\n",
      "Computing 1.7499999999999998\n",
      "Computing 1.7699999999999998\n",
      "Computing 1.7899999999999998\n",
      "Computing 1.8099999999999998\n",
      "Computing 1.8299999999999996\n",
      "Computing 1.8499999999999996\n",
      "Computing 1.8699999999999997\n",
      "Computing 1.8899999999999997\n",
      "Computing 1.9099999999999997\n",
      "Computing 1.9299999999999997\n",
      "Computing 1.9499999999999997\n",
      "Computing 1.9699999999999998\n",
      "Computing 1.9899999999999998\n",
      "Computing 2.01\n",
      "Computing 2.0299999999999994\n",
      "Computing 2.0499999999999994\n",
      "Computing 2.0699999999999994\n",
      "Computing 2.0899999999999994\n",
      "Computing 2.1099999999999994\n",
      "Computing 2.1299999999999994\n",
      "Computing 2.1499999999999995\n",
      "Computing 2.1699999999999995\n",
      "Computing 2.1899999999999995\n",
      "Computing 2.2099999999999995\n",
      "Computing 2.2299999999999995\n",
      "Computing 2.2499999999999996\n",
      "Computing 2.2699999999999996\n",
      "Computing 2.2899999999999996\n",
      "Computing 2.3099999999999996\n",
      "Computing 2.3299999999999996\n",
      "Computing 2.3499999999999996\n",
      "Computing 2.369999999999999\n",
      "Computing 2.3899999999999992\n",
      "Computing 2.4099999999999993\n",
      "Computing 2.4299999999999993\n",
      "Computing 2.4499999999999993\n",
      "Computing 2.4699999999999993\n",
      "Computing 2.4899999999999993\n",
      "Computing 2.5099999999999993\n",
      "Computing 2.5299999999999994\n",
      "Computing 2.5499999999999994\n",
      "Computing 2.5699999999999994\n",
      "Computing 2.5899999999999994\n",
      "Computing 2.6099999999999994\n",
      "Computing 2.6299999999999994\n",
      "Computing 2.6499999999999995\n",
      "Computing 2.6699999999999995\n",
      "Computing 2.6899999999999995\n",
      "Computing 2.7099999999999995\n",
      "Computing 2.7299999999999995\n",
      "Computing 2.7499999999999996\n",
      "Computing 2.7699999999999996\n",
      "Computing 2.789999999999999\n",
      "Computing 2.809999999999999\n",
      "Computing 2.829999999999999\n",
      "Computing 2.849999999999999\n",
      "Computing 2.869999999999999\n",
      "Computing 2.8899999999999992\n",
      "Computing 2.9099999999999993\n",
      "Computing 2.9299999999999993\n",
      "Computing 2.9499999999999993\n",
      "Computing 2.9699999999999993\n",
      "Computing 2.9899999999999993\n",
      "Computing 3.0099999999999993\n",
      "Computing 3.0299999999999994\n",
      "Computing 3.0499999999999994\n",
      "Computing 3.0699999999999994\n",
      "Computing 3.0899999999999994\n",
      "Computing 3.1099999999999994\n",
      "Computing 3.1299999999999994\n",
      "Computing 3.1499999999999995\n",
      "Computing 3.1699999999999995\n",
      "Computing 3.1899999999999995\n",
      "Computing 3.209999999999999\n",
      "Computing 3.229999999999999\n",
      "Computing 3.249999999999999\n",
      "Computing 3.269999999999999\n",
      "Computing 3.289999999999999\n",
      "Computing 3.309999999999999\n",
      "Computing 3.329999999999999\n",
      "Computing 3.349999999999999\n",
      "Computing 3.369999999999999\n",
      "Computing 3.3899999999999992\n",
      "Computing 3.4099999999999993\n",
      "Computing 3.4299999999999993\n",
      "Computing 3.4499999999999993\n",
      "Computing 3.4699999999999993\n",
      "Computing 3.4899999999999993\n",
      "Computing 3.5099999999999993\n",
      "Computing 3.5299999999999994\n",
      "Computing 3.5499999999999994\n",
      "Computing 3.5699999999999994\n",
      "Computing 3.5899999999999994\n",
      "Computing 3.6099999999999994\n",
      "Computing 3.6299999999999994\n",
      "Computing 3.649999999999999\n",
      "Computing 3.669999999999999\n",
      "Computing 3.689999999999999\n",
      "Computing 3.709999999999999\n",
      "Computing 3.729999999999999\n",
      "Computing 3.749999999999999\n",
      "Computing 3.769999999999999\n",
      "Computing 3.789999999999999\n",
      "Computing 3.809999999999999\n",
      "Computing 3.829999999999999\n",
      "Computing 3.849999999999999\n",
      "Computing 3.869999999999999\n",
      "Computing 3.8899999999999992\n",
      "Computing 3.9099999999999993\n",
      "Computing 3.9299999999999993\n",
      "Computing 3.9499999999999993\n",
      "Computing 3.9699999999999993\n",
      "Computing 3.9899999999999993\n"
     ]
    }
   ],
   "source": [
    "temps = np.arange(.01, 3, .02)\n",
    "for t in temps:\n",
    "    print(f\"Computing {t}\")\n",
    "    metropolis(t)"
   ],
   "metadata": {
    "collapsed": false,
    "ExecuteTime": {
     "start_time": "2023-05-03T09:33:12.184708Z",
     "end_time": "2023-05-03T09:33:49.964127Z"
    }
   }
  },
  {
   "cell_type": "code",
   "execution_count": 67,
   "outputs": [
    {
     "name": "stdout",
     "output_type": "stream",
     "text": [
      "200\n"
     ]
    }
   ],
   "source": [
    "# for x in energies.values():\n",
    "#     print(sum(x) / len(x))\n",
    "\n",
    "print(len(temps))\n",
    "\n",
    "avg_mags = dict()\n",
    "for temp, m in magnetizations.items():\n",
    "    avg_mags[temp] = sum([x[0] / N for x in m]) / n_iters"
   ],
   "metadata": {
    "collapsed": false,
    "ExecuteTime": {
     "start_time": "2023-05-03T09:33:49.990144Z",
     "end_time": "2023-05-03T09:33:50.064170Z"
    }
   }
  },
  {
   "cell_type": "code",
   "execution_count": 68,
   "outputs": [
    {
     "data": {
      "text/plain": "[<matplotlib.lines.Line2D at 0x7f26b92b9c00>]"
     },
     "execution_count": 68,
     "metadata": {},
     "output_type": "execute_result"
    },
    {
     "data": {
      "text/plain": "<Figure size 640x480 with 1 Axes>",
      "image/png": "[encoded data removed]"
     },
     "metadata": {},
     "output_type": "display_data"
    }
   ],
   "source": [
    "plt.plot(temps, [sum(x) / len(x) for x in energies.values()])"
   ],
   "metadata": {
    "collapsed": false,
    "ExecuteTime": {
     "start_time": "2023-05-03T09:33:50.080608Z",
     "end_time": "2023-05-03T09:33:50.267629Z"
    }
   }
  },
  {
   "cell_type": "code",
   "execution_count": 69,
   "outputs": [
    {
     "data": {
      "text/plain": "[<matplotlib.lines.Line2D at 0x7f26ab726e60>]"
     },
     "execution_count": 69,
     "metadata": {},
     "output_type": "execute_result"
    },
    {
     "data": {
      "text/plain": "<Figure size 640x480 with 1 Axes>",
      "image/png": "[encoded data removed]"
     },
     "metadata": {},
     "output_type": "display_data"
    }
   ],
   "source": [
    "plt.plot(temps, [abs(x - .5) + .5 for x in avg_mags.values()])"
   ],
   "metadata": {
    "collapsed": false,
    "ExecuteTime": {
     "start_time": "2023-05-03T09:33:50.279313Z",
     "end_time": "2023-05-03T09:33:50.470729Z"
    }
   }
  },
  {
   "cell_type": "code",
   "execution_count": 62,
   "outputs": [],
   "source": [],
   "metadata": {
    "collapsed": false,
    "ExecuteTime": {
     "start_time": "2023-05-03T09:31:12.070748Z",
     "end_time": "2023-05-03T09:31:12.071062Z"
    }
   }
  },
  {
   "cell_type": "code",
   "execution_count": null,
   "outputs": [],
   "source": [],
   "metadata": {
    "collapsed": false
   }
  }
 ],
 "metadata": {
  "kernelspec": {
   "display_name": "Python 3",
   "language": "python",
   "name": "python3"
  },
  "language_info": {
   "codemirror_mode": {
    "name": "ipython",
    "version": 2
   },
   "file_extension": ".py",
   "mimetype": "text/x-python",
   "name": "python",
   "nbconvert_exporter": "python",
   "pygments_lexer": "ipython2",
   "version": "2.7.6"
  }
 },
 "nbformat": 4,
 "nbformat_minor": 0
}
